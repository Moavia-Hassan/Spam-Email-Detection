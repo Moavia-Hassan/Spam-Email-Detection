{
 "cells": [
  {
   "cell_type": "markdown",
   "metadata": {},
   "source": [
    "# **General Steps**"
   ]
  },
  {
   "cell_type": "code",
   "execution_count": 3,
   "metadata": {},
   "outputs": [],
   "source": [
    "import pandas as pd\n",
    "df = pd.read_csv(\"../clean_dataset.csv\")"
   ]
  },
  {
   "cell_type": "code",
   "execution_count": 4,
   "metadata": {},
   "outputs": [
    {
     "data": {
      "text/html": [
       "<div>\n",
       "<style scoped>\n",
       "    .dataframe tbody tr th:only-of-type {\n",
       "        vertical-align: middle;\n",
       "    }\n",
       "\n",
       "    .dataframe tbody tr th {\n",
       "        vertical-align: top;\n",
       "    }\n",
       "\n",
       "    .dataframe thead th {\n",
       "        text-align: right;\n",
       "    }\n",
       "</style>\n",
       "<table border=\"1\" class=\"dataframe\">\n",
       "  <thead>\n",
       "    <tr style=\"text-align: right;\">\n",
       "      <th></th>\n",
       "      <th>Unnamed: 0</th>\n",
       "      <th>target</th>\n",
       "      <th>text</th>\n",
       "      <th>num_words</th>\n",
       "      <th>num_sentence</th>\n",
       "      <th>num_characters</th>\n",
       "      <th>transformed_text</th>\n",
       "    </tr>\n",
       "  </thead>\n",
       "  <tbody>\n",
       "    <tr>\n",
       "      <th>0</th>\n",
       "      <td>0</td>\n",
       "      <td>1</td>\n",
       "      <td>viiiiiiagraaaa\\nonly for the ones that want to...</td>\n",
       "      <td>60</td>\n",
       "      <td>6</td>\n",
       "      <td>403</td>\n",
       "      <td>viiiiiiagraaaa one want make scream prodigi sc...</td>\n",
       "    </tr>\n",
       "    <tr>\n",
       "      <th>1</th>\n",
       "      <td>1</td>\n",
       "      <td>0</td>\n",
       "      <td>got ice thought look az original message ice o...</td>\n",
       "      <td>60</td>\n",
       "      <td>1</td>\n",
       "      <td>530</td>\n",
       "      <td>got ice thought look az origin messag ice oper...</td>\n",
       "    </tr>\n",
       "    <tr>\n",
       "      <th>2</th>\n",
       "      <td>2</td>\n",
       "      <td>1</td>\n",
       "      <td>yo ur wom an ne eds an escapenumber in ch ma n...</td>\n",
       "      <td>48</td>\n",
       "      <td>1</td>\n",
       "      <td>215</td>\n",
       "      <td>yo ur wom ne ed escapenumb ch n b e th n f h e...</td>\n",
       "    </tr>\n",
       "    <tr>\n",
       "      <th>3</th>\n",
       "      <td>3</td>\n",
       "      <td>1</td>\n",
       "      <td>start increasing your odds of success &amp; live s...</td>\n",
       "      <td>69</td>\n",
       "      <td>5</td>\n",
       "      <td>345</td>\n",
       "      <td>start increas odd success live sexual healthi ...</td>\n",
       "    </tr>\n",
       "    <tr>\n",
       "      <th>4</th>\n",
       "      <td>4</td>\n",
       "      <td>0</td>\n",
       "      <td>author jra date escapenumber escapenumber esca...</td>\n",
       "      <td>467</td>\n",
       "      <td>1</td>\n",
       "      <td>3097</td>\n",
       "      <td>author jra date escapenumb escapenumb escapenu...</td>\n",
       "    </tr>\n",
       "  </tbody>\n",
       "</table>\n",
       "</div>"
      ],
      "text/plain": [
       "   Unnamed: 0  target                                               text  \\\n",
       "0           0       1  viiiiiiagraaaa\\nonly for the ones that want to...   \n",
       "1           1       0  got ice thought look az original message ice o...   \n",
       "2           2       1  yo ur wom an ne eds an escapenumber in ch ma n...   \n",
       "3           3       1  start increasing your odds of success & live s...   \n",
       "4           4       0  author jra date escapenumber escapenumber esca...   \n",
       "\n",
       "   num_words  num_sentence  num_characters  \\\n",
       "0         60             6             403   \n",
       "1         60             1             530   \n",
       "2         48             1             215   \n",
       "3         69             5             345   \n",
       "4        467             1            3097   \n",
       "\n",
       "                                    transformed_text  \n",
       "0  viiiiiiagraaaa one want make scream prodigi sc...  \n",
       "1  got ice thought look az origin messag ice oper...  \n",
       "2  yo ur wom ne ed escapenumb ch n b e th n f h e...  \n",
       "3  start increas odd success live sexual healthi ...  \n",
       "4  author jra date escapenumb escapenumb escapenu...  "
      ]
     },
     "execution_count": 4,
     "metadata": {},
     "output_type": "execute_result"
    }
   ],
   "source": [
    "df.head()"
   ]
  },
  {
   "cell_type": "code",
   "execution_count": 5,
   "metadata": {},
   "outputs": [],
   "source": [
    "from sklearn.feature_extraction.text import CountVectorizer, TfidfVectorizer\n",
    "cv = CountVectorizer()\n",
    "tfid = TfidfVectorizer(max_features = 3000)"
   ]
  },
  {
   "cell_type": "code",
   "execution_count": 7,
   "metadata": {},
   "outputs": [
    {
     "name": "stdout",
     "output_type": "stream",
     "text": [
      "91\n"
     ]
    }
   ],
   "source": [
    "print(df['transformed_text'].isnull().sum())"
   ]
  },
  {
   "cell_type": "code",
   "execution_count": 8,
   "metadata": {},
   "outputs": [],
   "source": [
    "df = df.dropna(subset=['transformed_text'])"
   ]
  },
  {
   "cell_type": "code",
   "execution_count": 9,
   "metadata": {},
   "outputs": [],
   "source": [
    "X = tfid.fit_transform(df['transformed_text']).toarray()\n",
    "y = df['target'].values"
   ]
  },
  {
   "cell_type": "code",
   "execution_count": null,
   "metadata": {},
   "outputs": [],
   "source": [
    "from sklearn.model_selection import train_test_split\n",
    "X_train, X_test , y_train, y_test = train_test_split(X,y,test_size = 0.20, random_state = 2)"
   ]
  },
  {
   "cell_type": "markdown",
   "metadata": {},
   "source": [
    "# **1 Logistic Regression**"
   ]
  }
 ],
 "metadata": {
  "kernelspec": {
   "display_name": "spam",
   "language": "python",
   "name": "python3"
  },
  "language_info": {
   "codemirror_mode": {
    "name": "ipython",
    "version": 3
   },
   "file_extension": ".py",
   "mimetype": "text/x-python",
   "name": "python",
   "nbconvert_exporter": "python",
   "pygments_lexer": "ipython3",
   "version": "3.13.1"
  }
 },
 "nbformat": 4,
 "nbformat_minor": 2
}
