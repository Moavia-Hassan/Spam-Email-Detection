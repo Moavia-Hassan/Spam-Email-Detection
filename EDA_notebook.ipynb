{
 "cells": [
  {
   "cell_type": "markdown",
   "metadata": {},
   "source": [
    "<!-- # <span style=\"color:#FFFFFF; font-size: 0%;\">1 | Introduction</span>\n",
    "<div style=\"border-radius: 0px; background-color: #112241; text-align:center;\">\n",
    "    <h4 style=\"color: white; padding: 1.5rem; font-size: 19px\"><b>1 | INTRODUCTION</b></h4>\n",
    "</div>\n",
    "<!-- <br> -->\n",
    "\n",
    "<div style=\"display: flex; flex-direction: row; align-items: center;\">\n",
    "    <div style=\"flex: 1; margin-left: 30px; margin-top: 6px\">\n",
    "        <p style=\"font-weight: bold; color: #dc2f02; font-size: 30px\",font-weight=bold>INTRODUCTION</p>\n",
    "        <p>Hi Everyone! p>\n",
    "        <p>My name is<b> Moavia Hassan</b>, and I am a Data Science Enthusiast. I am excited to share my findings with you.\n",
    "        <p>This is a beginner-friendly notebook that attempts to perform Exploratory Data Analysis(EDA) on the <b>Email Spam Detection Dataset</b> and train the models on this dataset and selcting the best one.\n",
    "        </p>\n",
    "        <p> Let's explore and then make results and discussion to gain deeper insights from our analysis.</p>\n",
    "        <blockquote>  If find this notebook helpful please consider upvoting ❤️</blockquote>\n",
    "    </div>\n",
    "</div>\n",
    "\n"
   ]
  }
 ],
 "metadata": {
  "language_info": {
   "name": "python"
  }
 },
 "nbformat": 4,
 "nbformat_minor": 2
}
