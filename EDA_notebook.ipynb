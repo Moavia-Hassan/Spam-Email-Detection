{
 "cells": [
  {
   "cell_type": "markdown",
   "metadata": {},
   "source": [
    "<!-- # <span style=\"color:#FFFFFF; font-size: 0%;\">1 | Introduction</span>\n",
    "<div style=\"border-radius: 0px; background-color: #112241; text-align:center;\">\n",
    "    <h4 style=\"color: white; padding: 1.5rem; font-size: 19px\"><b>1 | INTRODUCTION</b></h4>\n",
    "</div>\n",
    "<!-- <br> -->\n",
    "\n",
    "<div style=\"display: flex; flex-direction: row; align-items: center;\">\n",
    "    <div style=\"flex: 1; margin-left: 30px; margin-top: 6px\">\n",
    "        <p style=\"font-weight: bold; color: #dc2f02; font-size: 30px\",font-weight=bold>INTRODUCTION</p>\n",
    "        <p>Hi Everyone! </p>\n",
    "        <p>My name is<b> Moavia Hassan</b>, and I am a Data Science Enthusiast. I am excited to share my findings with you.\n",
    "        <p>This is a beginner-friendly notebook that attempts to perform Exploratory Data Analysis(EDA) on the <b>Email Spam Detection Dataset</b> and train the models on this dataset and selcting the best one.\n",
    "        </p>\n",
    "        <p> Let's explore and then make results and discussion to gain deeper insights from our analysis.</p>\n",
    "        <blockquote>  If find this notebook helpful please consider upvoting ❤️</blockquote>\n",
    "    </div>\n",
    "</div>\n",
    "\n"
   ]
  },
  {
   "cell_type": "markdown",
   "metadata": {
    "vscode": {
     "languageId": "plaintext"
    }
   },
   "source": [
    "## Meta-Data (About Dataset)\n",
    "yet I have to add"
   ]
  },
  {
   "cell_type": "markdown",
   "metadata": {},
   "source": [
    "<a id=\"contents_tabel\"></a>    \n",
    "<div style=\"border-radius:40px; padding: 25px; font-size:115%; text-align:left\">\n",
    "\n",
    "\n",
    "<span style=\"color:#dc2f02; font-size: 200%; font-weight: bold;\">Table of Contents</span>\n",
    "\n",
    "* [Step 1 | Import Libraries](#import)\n",
    "* [Step 2 | Read Dataset](#read)"
   ]
  },
  {
   "cell_type": "markdown",
   "metadata": {},
   "source": [
    "<span style=\"color:#dc2f02; font-size: 200%; font-weight: bold;\">Lets get started :</span>"
   ]
  },
  {
   "cell_type": "markdown",
   "metadata": {
    "vscode": {
     "languageId": "plaintext"
    }
   },
   "source": [
    "<a id=\"import\"></a>\n",
    "# <p style=\"background-color:#ef271b; font-family:calibri; color:white; font-size:150%; text-align:center; border-radius:15px 50px;\">Step 1 | Import Libraries</p>\n",
    "\n",
    "⬆️ [Tabel of Contents](#contents_tabel)"
   ]
  },
  {
   "cell_type": "code",
   "execution_count": 1,
   "metadata": {},
   "outputs": [],
   "source": [
    "import string\n",
    "import os\n",
    "\n",
    "import pandas as pd\n",
    "import numpy as np\n",
    "\n",
    "import nltk\n",
    "from nltk.corpus import stopwords\n",
    "from nltk.stem.porter import PorterStemmer\n",
    "\n",
    "\n",
    "from sklearn.feature_extraction.text import CountVectorizer\n",
    "from sklearn.model_selection import train_test_split\n",
    "from sklearn.ensemble import RandomForestClassifier\n",
    "\n",
    "\n",
    "\n"
   ]
  },
  {
   "cell_type": "code",
   "execution_count": 36,
   "metadata": {},
   "outputs": [
    {
     "name": "stderr",
     "output_type": "stream",
     "text": [
      "[nltk_data] Downloading package stopwords to\n",
      "[nltk_data]     C:\\Users\\MoaviaHassan\\AppData\\Roaming\\nltk_data...\n",
      "[nltk_data]   Unzipping corpora\\stopwords.zip.\n"
     ]
    },
    {
     "data": {
      "text/plain": [
       "True"
      ]
     },
     "execution_count": 36,
     "metadata": {},
     "output_type": "execute_result"
    }
   ],
   "source": [
    "nltk.download('stopwords')"
   ]
  },
  {
   "cell_type": "code",
   "execution_count": 2,
   "metadata": {},
   "outputs": [],
   "source": [
    "pd.set_option('display.max_colwidth', None)"
   ]
  },
  {
   "cell_type": "markdown",
   "metadata": {},
   "source": [
    "<a id=\"import\"></a>\n",
    "# <p style=\"background-color:#ef271b; font-family:calibri; color:white; font-size:150%; text-align:center; border-radius:15px 50px;\">Step 2 | Read Dataset </p>\n",
    "\n",
    "⬆️ [Tabel of Contents](#contents_tabel)"
   ]
  },
  {
   "cell_type": "code",
   "execution_count": 3,
   "metadata": {},
   "outputs": [],
   "source": [
    "df = pd.read_csv(\"../spam_Emails_data.csv\")\n"
   ]
  },
  {
   "cell_type": "code",
   "execution_count": 4,
   "metadata": {},
   "outputs": [
    {
     "data": {
      "text/plain": [
       "(193852, 2)"
      ]
     },
     "execution_count": 4,
     "metadata": {},
     "output_type": "execute_result"
    }
   ],
   "source": [
    "df.shape"
   ]
  },
  {
   "cell_type": "code",
   "execution_count": 5,
   "metadata": {},
   "outputs": [
    {
     "data": {
      "text/html": [
       "<div>\n",
       "<style scoped>\n",
       "    .dataframe tbody tr th:only-of-type {\n",
       "        vertical-align: middle;\n",
       "    }\n",
       "\n",
       "    .dataframe tbody tr th {\n",
       "        vertical-align: top;\n",
       "    }\n",
       "\n",
       "    .dataframe thead th {\n",
       "        text-align: right;\n",
       "    }\n",
       "</style>\n",
       "<table border=\"1\" class=\"dataframe\">\n",
       "  <thead>\n",
       "    <tr style=\"text-align: right;\">\n",
       "      <th></th>\n",
       "      <th>label</th>\n",
       "      <th>text</th>\n",
       "    </tr>\n",
       "  </thead>\n",
       "  <tbody>\n",
       "    <tr>\n",
       "      <th>0</th>\n",
       "      <td>Spam</td>\n",
       "      <td>viiiiiiagraaaa\\nonly for the ones that want to make her scream .\\nprodigy scrawny crow define upgrade spongy balboa dither moiseyev schumann variegate ponce bernie cox angeles impassive circulate impend miscellany chalkboard whizzing pend armenian cutlet waring makeshift fletch dispel crest cadet dovetail rapprochement gerry bayreuth selectman wilmington tuttle alchemy itt bullyboy .\\ncaan ' t do . . .\\n</td>\n",
       "    </tr>\n",
       "    <tr>\n",
       "      <th>1</th>\n",
       "      <td>Ham</td>\n",
       "      <td>got ice thought look az original message ice operations mailto iceoperations intcx com sent friday october escapenumber escapenumber escapenumber escapenumber pm subject escapelong amended participant agreement dear participant receiving email identified company user administrator legal counsel signatory escapelong participant agreement serves notice intercontinentals intent amend agreement effective december escapenumber escapenumber relevant documentation attached includes contact information questions thank escapelong inc</td>\n",
       "    </tr>\n",
       "    <tr>\n",
       "      <th>2</th>\n",
       "      <td>Spam</td>\n",
       "      <td>yo ur wom an ne eds an escapenumber in ch ma n b e th at ma n f or h er le arn h ow here tu rn of f not ific ati ons here escapelong dy international exports ltd st regina escapenumber belize city belize escapelong</td>\n",
       "    </tr>\n",
       "    <tr>\n",
       "      <th>3</th>\n",
       "      <td>Spam</td>\n",
       "      <td>start increasing your odds of success &amp; live sexually healthy .\\neasy and imperceptible to take .\\ntake just a candy and become ready for 36 hours of love .\\n? this is most modern and safe way not to cover with shame\\n? only 15 minutes to wait\\n? fda approved\\nsoft tabs order will be packaged discreetly for your privacy and protection .\\nr % emove !\\n</td>\n",
       "    </tr>\n",
       "    <tr>\n",
       "      <th>4</th>\n",
       "      <td>Ham</td>\n",
       "      <td>author jra date escapenumber escapenumber escapenumber escapenumber escapenumber escapenumber escapenumber fri escapenumber jun escapenumber new revision escapenumber websvn http websvn samba org cgi bin viewcvs cgi view rev root samba rev escapenumber log first part of the patch to make apple's life easier doing this in two stages to make it very easy to review context switching must look like gain root sys setgroups ngroups groups become id uid gid re arrange order so these three calls are always seen together next will be to turn these into a function jeremy modified branches samba escapenumber escapenumber source smbd sec ctx c branches samba escapenumber escapenumber escapenumber source smbd sec ctx c changeset modified branches samba escapenumber escapenumber source smbd sec ctx c branches samba escapenumber escapenumber source smbd sec ctx c escapenumber escapenumber escapenumber escapenumber escapenumber escapenumber utc rev escapenumber branches samba escapenumber escapenumber source smbd sec ctx c escapenumber escapenumber escapenumber escapenumber escapenumber escapenumber utc rev escapenumber escapenumber escapenumber escapenumber escapenumber debug nt user token dbgc class escapenumber token debug unix user token dbgc class escapenumber uid gid ngroups groups start context switch gain root ifdef have setgroups sys setgroups ngroups groups endif become id uid gid end context switch ctx p ut ngroups ngroups escapenumber escapenumber escapenumber escapenumber ctx p token null become id uid gid ctx p ut uid uid ctx p ut gid gid escapenumber escapenumber escapenumber escapenumber sec ctx stack ndx gain root prev ctx p sec ctx stack sec ctx stack ndx start context switch gain root ifdef have setgroups sys setgroups prev ctx p ut ngroups prev ctx p ut groups endif become id prev ctx p ut uid prev ctx p ut gid end context switch update current user stuff modified branches samba escapenumber escapenumber escapenumber source smbd sec ctx c branches samba escapenumber escapenumber escapenumber source smbd sec ctx c escapenumber escapenumber escapenumber escapenumber escapenumber escapenumber utc rev escapenumber branches samba escapenumber escapenumber escapenumber source smbd sec ctx c escapenumber escapenumber escapenumber escapenumber escapenumber escapenumber utc rev escapenumber escapenumber escapenumber escapenumber escapenumber debug nt user token dbgc class escapenumber token debug unix user token dbgc class escapenumber uid gid ngroups groups start context switch gain root ifdef have setgroups sys setgroups ngroups groups endif become id uid gid end context switch ctx p ut ngroups ngroups escapenumber escapenumber escapenumber escapenumber ctx p token null become id uid gid ctx p ut uid uid ctx p ut gid gid escapenumber escapenumber escapenumber escapenumber sec ctx stack ndx gain root prev ctx p sec ctx stack sec ctx stack ndx start context switch gain root ifdef have setgroups sys setgroups prev ctx p ut ngroups prev ctx p ut groups endif become id prev ctx p ut uid prev ctx p ut gid end context switch update current user stuff</td>\n",
       "    </tr>\n",
       "  </tbody>\n",
       "</table>\n",
       "</div>"
      ],
      "text/plain": [
       "  label  \\\n",
       "0  Spam   \n",
       "1   Ham   \n",
       "2  Spam   \n",
       "3  Spam   \n",
       "4   Ham   \n",
       "\n",
       "                                                                                                                                                                                                                                                                                                                                                                                                                                                                                                                                                                                                                                                                                                                                                                                                                                                                                                                                                                                                                                                                                                                                                                                                                                                                                                                                                                                                                                                                                                                                                                                                                                                                                                                                                                                                                                                                                                                                                                                                                                                                                                                                                                                                                                                                                                                                                                                                                                                                                                                                                                                                                                                                                                                                                                                                                                                                                                                                                                                                                                                                                                                                                                                                                        text  \n",
       "0                                                                                                                                                                                                                                                                                                                                                                                                                                                                                                                                                                                                                                                                                                                                                                                                                                                                                                                                                                                                                                                                                                                                                                                                                                                                                                                                                                                                                                                                                                                                                                                                                                                                                                                                                                                                                                                                                                                                                                                                                                                                                                                                                                                                                                                                                                                                                                                                                                                                                                                                                                                                                                                                                                                                                                                                    viiiiiiagraaaa\\nonly for the ones that want to make her scream .\\nprodigy scrawny crow define upgrade spongy balboa dither moiseyev schumann variegate ponce bernie cox angeles impassive circulate impend miscellany chalkboard whizzing pend armenian cutlet waring makeshift fletch dispel crest cadet dovetail rapprochement gerry bayreuth selectman wilmington tuttle alchemy itt bullyboy .\\ncaan ' t do . . .\\n  \n",
       "1                                                                                                                                                                                                                                                                                                                                                                                                                                                                                                                                                                                                                                                                                                                                                                                                                                                                                                                                                                                                                                                                                                                                                                                                                                                                                                                                                                                                                                                                                                                                                                                                                                                                                                                                                                                                                                                                                                                                                                                                                                                                                                                                                                                                                                                                                                                                                                                                                                                                                                                                                                                                                                                                         got ice thought look az original message ice operations mailto iceoperations intcx com sent friday october escapenumber escapenumber escapenumber escapenumber pm subject escapelong amended participant agreement dear participant receiving email identified company user administrator legal counsel signatory escapelong participant agreement serves notice intercontinentals intent amend agreement effective december escapenumber escapenumber relevant documentation attached includes contact information questions thank escapelong inc  \n",
       "2                                                                                                                                                                                                                                                                                                                                                                                                                                                                                                                                                                                                                                                                                                                                                                                                                                                                                                                                                                                                                                                                                                                                                                                                                                                                                                                                                                                                                                                                                                                                                                                                                                                                                                                                                                                                                                                                                                                                                                                                                                                                                                                                                                                                                                                                                                                                                                                                                                                                                                                                                                                                                                                                                                                                                                                                                                                                                                                                                                                                    yo ur wom an ne eds an escapenumber in ch ma n b e th at ma n f or h er le arn h ow here tu rn of f not ific ati ons here escapelong dy international exports ltd st regina escapenumber belize city belize escapelong   \n",
       "3                                                                                                                                                                                                                                                                                                                                                                                                                                                                                                                                                                                                                                                                                                                                                                                                                                                                                                                                                                                                                                                                                                                                                                                                                                                                                                                                                                                                                                                                                                                                                                                                                                                                                                                                                                                                                                                                                                                                                                                                                                                                                                                                                                                                                                                                                                                                                                                                                                                                                                                                                                                                                                                                                                                                                                                                                                                          start increasing your odds of success & live sexually healthy .\\neasy and imperceptible to take .\\ntake just a candy and become ready for 36 hours of love .\\n? this is most modern and safe way not to cover with shame\\n? only 15 minutes to wait\\n? fda approved\\nsoft tabs order will be packaged discreetly for your privacy and protection .\\nr % emove !\\n  \n",
       "4  author jra date escapenumber escapenumber escapenumber escapenumber escapenumber escapenumber escapenumber fri escapenumber jun escapenumber new revision escapenumber websvn http websvn samba org cgi bin viewcvs cgi view rev root samba rev escapenumber log first part of the patch to make apple's life easier doing this in two stages to make it very easy to review context switching must look like gain root sys setgroups ngroups groups become id uid gid re arrange order so these three calls are always seen together next will be to turn these into a function jeremy modified branches samba escapenumber escapenumber source smbd sec ctx c branches samba escapenumber escapenumber escapenumber source smbd sec ctx c changeset modified branches samba escapenumber escapenumber source smbd sec ctx c branches samba escapenumber escapenumber source smbd sec ctx c escapenumber escapenumber escapenumber escapenumber escapenumber escapenumber utc rev escapenumber branches samba escapenumber escapenumber source smbd sec ctx c escapenumber escapenumber escapenumber escapenumber escapenumber escapenumber utc rev escapenumber escapenumber escapenumber escapenumber escapenumber debug nt user token dbgc class escapenumber token debug unix user token dbgc class escapenumber uid gid ngroups groups start context switch gain root ifdef have setgroups sys setgroups ngroups groups endif become id uid gid end context switch ctx p ut ngroups ngroups escapenumber escapenumber escapenumber escapenumber ctx p token null become id uid gid ctx p ut uid uid ctx p ut gid gid escapenumber escapenumber escapenumber escapenumber sec ctx stack ndx gain root prev ctx p sec ctx stack sec ctx stack ndx start context switch gain root ifdef have setgroups sys setgroups prev ctx p ut ngroups prev ctx p ut groups endif become id prev ctx p ut uid prev ctx p ut gid end context switch update current user stuff modified branches samba escapenumber escapenumber escapenumber source smbd sec ctx c branches samba escapenumber escapenumber escapenumber source smbd sec ctx c escapenumber escapenumber escapenumber escapenumber escapenumber escapenumber utc rev escapenumber branches samba escapenumber escapenumber escapenumber source smbd sec ctx c escapenumber escapenumber escapenumber escapenumber escapenumber escapenumber utc rev escapenumber escapenumber escapenumber escapenumber escapenumber debug nt user token dbgc class escapenumber token debug unix user token dbgc class escapenumber uid gid ngroups groups start context switch gain root ifdef have setgroups sys setgroups ngroups groups endif become id uid gid end context switch ctx p ut ngroups ngroups escapenumber escapenumber escapenumber escapenumber ctx p token null become id uid gid ctx p ut uid uid ctx p ut gid gid escapenumber escapenumber escapenumber escapenumber sec ctx stack ndx gain root prev ctx p sec ctx stack sec ctx stack ndx start context switch gain root ifdef have setgroups sys setgroups prev ctx p ut ngroups prev ctx p ut groups endif become id prev ctx p ut uid prev ctx p ut gid end context switch update current user stuff   "
      ]
     },
     "execution_count": 5,
     "metadata": {},
     "output_type": "execute_result"
    }
   ],
   "source": [
    "df.head(5)"
   ]
  },
  {
   "cell_type": "code",
   "execution_count": 21,
   "metadata": {},
   "outputs": [
    {
     "data": {
      "text/plain": [
       "2"
      ]
     },
     "execution_count": 21,
     "metadata": {},
     "output_type": "execute_result"
    }
   ],
   "source": [
    "df['label'].nunique()"
   ]
  },
  {
   "cell_type": "code",
   "execution_count": 7,
   "metadata": {},
   "outputs": [],
   "source": [
    "encoding_group = {\n",
    "    \"Spam\" : 1,\n",
    "    \"Ham\" : 0\n",
    "}\n",
    "df['label'] = df['label'].map(encoding_group)"
   ]
  },
  {
   "cell_type": "code",
   "execution_count": 8,
   "metadata": {},
   "outputs": [
    {
     "data": {
      "text/html": [
       "<div>\n",
       "<style scoped>\n",
       "    .dataframe tbody tr th:only-of-type {\n",
       "        vertical-align: middle;\n",
       "    }\n",
       "\n",
       "    .dataframe tbody tr th {\n",
       "        vertical-align: top;\n",
       "    }\n",
       "\n",
       "    .dataframe thead th {\n",
       "        text-align: right;\n",
       "    }\n",
       "</style>\n",
       "<table border=\"1\" class=\"dataframe\">\n",
       "  <thead>\n",
       "    <tr style=\"text-align: right;\">\n",
       "      <th></th>\n",
       "      <th>label</th>\n",
       "      <th>text</th>\n",
       "    </tr>\n",
       "  </thead>\n",
       "  <tbody>\n",
       "    <tr>\n",
       "      <th>40608</th>\n",
       "      <td>1</td>\n",
       "      <td>hello ,\\nwe sent you an email a while ago , because you now qualify\\nfor a much lower rate based on the biggest rate drop in years .\\nyou can now get $ 325 , 000 for as little as $ 615 a month !\\nbad credit ? doesn ' t matter , low rates are fixed no matter what !\\nfollow this link to process your application and a 24 hour approval :\\nbest regards ,\\njerrold mays\\nhttp : / / www . mortgage 2006 . com / x / st . html\\n</td>\n",
       "    </tr>\n",
       "    <tr>\n",
       "      <th>14975</th>\n",
       "      <td>1</td>\n",
       "      <td>friday june escapenumber escapenumber escapenumber am et seattle wa market wire jun escapenumber escapenumber jim bede director of aeronautical design for exosphere aircraft company inc other otc exsa pk news was featured on market news first www mnescapenumber com in an exclusive live interview with mnescapenumber's bob leonard rich hancock the interview took place on june escapenumber escapenumber at escapenumber escapenumberam cdt mnescapenumber also wrote a feature story about exsa that can be viewed on its website the story focuses on exsa's direction in escapenumber under the tutelage of jim bede the explosive light sport aircraft marketplace and the evolution of the industry join jim bede to learn more about the goals of the design of the bd escapenumbers and the bd escapenumber including his aim to build both the best and most affordable lsa in the market view the story on mnescapenumber's website at the following link website jim bede explains exosphere the podcast featuring jim bede can be viewed at the following link listen windows media about exosphere aircraft company exosphereair com exosphere aircraft company is a light sport aircraft design and manufacturing company pioneering new and innovative airplanes for the private builder exosphere aims to provide the marketplace with planes that meet the majority of consumer needs finding ways to incorporate fuel efficiency weight limitations plane performance and current design trends into new planes jim bede is a well known innovative aircraft designer and has been highly influential in the kit plane market bill lear creator of the learjet called jim the best damned airplane designer in the world since escapenumber bede has focused on making flying affordable for ev eryone developing his own line of aircraft the most famous of these the bd escapenumber micro plane was featured in two james bond movies octopussy and die another day this is a public press release privacy statement</td>\n",
       "    </tr>\n",
       "    <tr>\n",
       "      <th>115892</th>\n",
       "      <td>0</td>\n",
       "      <td>fyi -\\n- - - - - original message - - - - -\\nfrom : meg wozny\\nsent : tuesday , april 03 , 2001 10 : 00 am\\nto : jafry , rahil\\nsubject : re : hbs case study\\nhi rahil ,\\ni ' m attaching two enrononline cases that were put into our system couple of\\nweeks ago .\\nthe second , short case , is a classroom handout that summarizes eol ' s\\nsuccess and signals new challenges .\\njust fyi - - we are now developing a multimedia eol case , which will be\\nreleased on cd rom . it will have links to video interviews with jeff , ken\\nand louise .\\nwe are very happy with our enron cases ; they will most likely become\\nbestsellers . it was a great learning experience for me and prof . bartlett ,\\nand you were a big part of that experience . thank you so much for all your\\nhelp ! please feel free to call me if you have any questions or need\\nanything else .\\nregards ,\\nmeg\\n- 301085 . doc\\n- 301102 . doc\\n- - - - - - - - - - - - - - - - - - -\\nmeg glinska wozny\\nresearch associate\\nharvard business school\\ngallatin lounge c\\nsoldiers field\\nboston , ma 02163\\nvoicemail : ( 617 ) 496 - 0802\\nfacsimile : ( 617 ) 496 - 6943\\nemail : mwozny @ hbs . edu</td>\n",
       "    </tr>\n",
       "    <tr>\n",
       "      <th>69583</th>\n",
       "      <td>0</td>\n",
       "      <td>dear mark mcconnell thank you again for your order and showing your college team spirit your order has been shipped to the address below college flags and banners co is the perfect solution for unique holiday and housewarming gifts for family friends neighbors and fellow alumni if you have any questions regarding this shipment please contact us at collegeflags aol com thank you again order no escapenumber item description qty unit price total price oklahoma this is our top escapenumber escapenumber escapenumber escapenumber escapenumber banner flag quality banner flag which measures escapenumberxescapenumber the flag i subtotal escapenumber escapenumber shipping escapenumber escapenumber tax escapenumber escapenumber total escapenumber escapenumber total amount charged to your credit card escapenumber escapenumber if you have any questions about your order please reply to this email shipping address mark mcconnell escapenumber laurel st bellaire tx escapenumber us usps priority mail special messages if nobody is home please leave at front step please visit us again at http www escapelong com</td>\n",
       "    </tr>\n",
       "    <tr>\n",
       "      <th>50601</th>\n",
       "      <td>0</td>\n",
       "      <td>hello have anybody made tools for g estimation introduced by j robins in r http www ncbi nlm nih gov sites entrez db pubmed cmd showdetailview termtosearch escapenumber ordinalpos escapenumber itool escapelong pentrez pubmed pubmed resultspanel pubmed rvdocsum regards jari haukka r help stat math ethz ch mailing list https stat ethz ch mailman listinfo r help please do read the posting guide http www r project org posting guide html and provide commented minimal self contained reproducible code</td>\n",
       "    </tr>\n",
       "  </tbody>\n",
       "</table>\n",
       "</div>"
      ],
      "text/plain": [
       "        label  \\\n",
       "40608       1   \n",
       "14975       1   \n",
       "115892      0   \n",
       "69583       0   \n",
       "50601       0   \n",
       "\n",
       "                                                                                                                                                                                                                                                                                                                                                                                                                                                                                                                                                                                                                                                                                                                                                                                                                                                                                                                                                                                                                                                                                                                                                                                                                                                                                                                                                                                                                                                                                                                                                                                                                                                                                                                                                                                                                                                                                                                                                                                                                                                       text  \n",
       "40608                                                                                                                                                                                                                                                                                                                                                                                                                                                                                                                                                                                                                                                                                                                                                                                                                                                                                                                                                                                                                                                                                                                                                                                                                                                                                                                                                                                                                                                                                                                                                                                                                 hello ,\\nwe sent you an email a while ago , because you now qualify\\nfor a much lower rate based on the biggest rate drop in years .\\nyou can now get $ 325 , 000 for as little as $ 615 a month !\\nbad credit ? doesn ' t matter , low rates are fixed no matter what !\\nfollow this link to process your application and a 24 hour approval :\\nbest regards ,\\njerrold mays\\nhttp : / / www . mortgage 2006 . com / x / st . html\\n  \n",
       "14975   friday june escapenumber escapenumber escapenumber am et seattle wa market wire jun escapenumber escapenumber jim bede director of aeronautical design for exosphere aircraft company inc other otc exsa pk news was featured on market news first www mnescapenumber com in an exclusive live interview with mnescapenumber's bob leonard rich hancock the interview took place on june escapenumber escapenumber at escapenumber escapenumberam cdt mnescapenumber also wrote a feature story about exsa that can be viewed on its website the story focuses on exsa's direction in escapenumber under the tutelage of jim bede the explosive light sport aircraft marketplace and the evolution of the industry join jim bede to learn more about the goals of the design of the bd escapenumbers and the bd escapenumber including his aim to build both the best and most affordable lsa in the market view the story on mnescapenumber's website at the following link website jim bede explains exosphere the podcast featuring jim bede can be viewed at the following link listen windows media about exosphere aircraft company exosphereair com exosphere aircraft company is a light sport aircraft design and manufacturing company pioneering new and innovative airplanes for the private builder exosphere aims to provide the marketplace with planes that meet the majority of consumer needs finding ways to incorporate fuel efficiency weight limitations plane performance and current design trends into new planes jim bede is a well known innovative aircraft designer and has been highly influential in the kit plane market bill lear creator of the learjet called jim the best damned airplane designer in the world since escapenumber bede has focused on making flying affordable for ev eryone developing his own line of aircraft the most famous of these the bd escapenumber micro plane was featured in two james bond movies octopussy and die another day this is a public press release privacy statement  \n",
       "115892                                                                                                                                                                                                                                                                                                                                                                                                                                                                                                                                                                                                                                                                                                                                                                                                                                                        fyi -\\n- - - - - original message - - - - -\\nfrom : meg wozny\\nsent : tuesday , april 03 , 2001 10 : 00 am\\nto : jafry , rahil\\nsubject : re : hbs case study\\nhi rahil ,\\ni ' m attaching two enrononline cases that were put into our system couple of\\nweeks ago .\\nthe second , short case , is a classroom handout that summarizes eol ' s\\nsuccess and signals new challenges .\\njust fyi - - we are now developing a multimedia eol case , which will be\\nreleased on cd rom . it will have links to video interviews with jeff , ken\\nand louise .\\nwe are very happy with our enron cases ; they will most likely become\\nbestsellers . it was a great learning experience for me and prof . bartlett ,\\nand you were a big part of that experience . thank you so much for all your\\nhelp ! please feel free to call me if you have any questions or need\\nanything else .\\nregards ,\\nmeg\\n- 301085 . doc\\n- 301102 . doc\\n- - - - - - - - - - - - - - - - - - -\\nmeg glinska wozny\\nresearch associate\\nharvard business school\\ngallatin lounge c\\nsoldiers field\\nboston , ma 02163\\nvoicemail : ( 617 ) 496 - 0802\\nfacsimile : ( 617 ) 496 - 6943\\nemail : mwozny @ hbs . edu  \n",
       "69583                                                                                                                                                                                                                                                                                                                                                                                                                                                                                                                                                                                                                                                                                                                                                                                                                                                                                               dear mark mcconnell thank you again for your order and showing your college team spirit your order has been shipped to the address below college flags and banners co is the perfect solution for unique holiday and housewarming gifts for family friends neighbors and fellow alumni if you have any questions regarding this shipment please contact us at collegeflags aol com thank you again order no escapenumber item description qty unit price total price oklahoma this is our top escapenumber escapenumber escapenumber escapenumber escapenumber banner flag quality banner flag which measures escapenumberxescapenumber the flag i subtotal escapenumber escapenumber shipping escapenumber escapenumber tax escapenumber escapenumber total escapenumber escapenumber total amount charged to your credit card escapenumber escapenumber if you have any questions about your order please reply to this email shipping address mark mcconnell escapenumber laurel st bellaire tx escapenumber us usps priority mail special messages if nobody is home please leave at front step please visit us again at http www escapelong com   \n",
       "50601                                                                                                                                                                                                                                                                                                                                                                                                                                                                                                                                                                                                                                                                                                                                                                                                                                                                                                                                                                                                                                                                                                                                                                                                                                                                                                                                                                                                                                                                                                                                  hello have anybody made tools for g estimation introduced by j robins in r http www ncbi nlm nih gov sites entrez db pubmed cmd showdetailview termtosearch escapenumber ordinalpos escapenumber itool escapelong pentrez pubmed pubmed resultspanel pubmed rvdocsum regards jari haukka r help stat math ethz ch mailing list https stat ethz ch mailman listinfo r help please do read the posting guide http www r project org posting guide html and provide commented minimal self contained reproducible code   "
      ]
     },
     "execution_count": 8,
     "metadata": {},
     "output_type": "execute_result"
    }
   ],
   "source": [
    "df.sample(5)"
   ]
  },
  {
   "cell_type": "markdown",
   "metadata": {},
   "source": [
    "## Video Steps "
   ]
  },
  {
   "cell_type": "markdown",
   "metadata": {},
   "source": [
    "Removing new line characters and others Like \\r , \\n"
   ]
  },
  {
   "cell_type": "code",
   "execution_count": 10,
   "metadata": {},
   "outputs": [
    {
     "name": "stdout",
     "output_type": "stream",
     "text": [
      "Missing values in 'text': 2\n"
     ]
    }
   ],
   "source": [
    "print(\"Missing values in 'text':\", df['text'].isna().sum())"
   ]
  },
  {
   "cell_type": "code",
   "execution_count": 11,
   "metadata": {},
   "outputs": [],
   "source": [
    "df = df.dropna(subset=['text'])"
   ]
  },
  {
   "cell_type": "code",
   "execution_count": 12,
   "metadata": {},
   "outputs": [],
   "source": [
    "df['text'] = df['text'].apply(lambda x: x.replace('\\r\\n', ' '))"
   ]
  },
  {
   "cell_type": "code",
   "execution_count": 14,
   "metadata": {},
   "outputs": [
    {
     "name": "stdout",
     "output_type": "stream",
     "text": [
      "<class 'pandas.core.frame.DataFrame'>\n",
      "Index: 193850 entries, 0 to 193851\n",
      "Data columns (total 2 columns):\n",
      " #   Column  Non-Null Count   Dtype \n",
      "---  ------  --------------   ----- \n",
      " 0   label   193850 non-null  int64 \n",
      " 1   text    193850 non-null  object\n",
      "dtypes: int64(1), object(1)\n",
      "memory usage: 4.4+ MB\n"
     ]
    }
   ],
   "source": [
    "df.info()"
   ]
  },
  {
   "cell_type": "code",
   "execution_count": 18,
   "metadata": {},
   "outputs": [
    {
     "data": {
      "text/plain": [
       "\"exclusive\\noffer from 24 x 7 emessaging\\nsearch for a pre - owned vehicle\\nbuy a used car online\\nyou ' ve\\nreceived this message because you have signed up to receive\\noffers from one of our carefully selected marketing\\npartners .\\n24 x 7 emessaging\\nis the internet ' s best source of exciting new offers and\\ndiscounts . if you no longer wish to receive these offers ,\\nplease follow the unsubscribe instructions at the bottom .\\nto\\nunsubscribe from our mailing list , online unsubscribe click\\nhere or\\nby email click\\nhere\\n\""
      ]
     },
     "execution_count": 18,
     "metadata": {},
     "output_type": "execute_result"
    }
   ],
   "source": [
    "df.text.iloc[188]"
   ]
  },
  {
   "cell_type": "code",
   "execution_count": 24,
   "metadata": {},
   "outputs": [],
   "source": [
    "stemmer = PorterStemmer()"
   ]
  },
  {
   "cell_type": "code",
   "execution_count": 27,
   "metadata": {},
   "outputs": [
    {
     "data": {
      "text/plain": [
       "'run'"
      ]
     },
     "execution_count": 27,
     "metadata": {},
     "output_type": "execute_result"
    }
   ],
   "source": [
    "stemmer.stem('running')"
   ]
  },
  {
   "cell_type": "code",
   "execution_count": null,
   "metadata": {},
   "outputs": [],
   "source": []
  }
 ],
 "metadata": {
  "kernelspec": {
   "display_name": "spam",
   "language": "python",
   "name": "python3"
  },
  "language_info": {
   "codemirror_mode": {
    "name": "ipython",
    "version": 3
   },
   "file_extension": ".py",
   "mimetype": "text/x-python",
   "name": "python",
   "nbconvert_exporter": "python",
   "pygments_lexer": "ipython3",
   "version": "3.13.1"
  }
 },
 "nbformat": 4,
 "nbformat_minor": 2
}
