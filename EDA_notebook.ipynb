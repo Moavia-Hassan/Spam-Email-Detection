{
 "cells": [
  {
   "cell_type": "markdown",
   "metadata": {},
   "source": [
    "<!-- # <span style=\"color:#FFFFFF; font-size: 0%;\">1 | Introduction</span>\n",
    "<div style=\"border-radius: 0px; background-color: #112241; text-align:center;\">\n",
    "    <h4 style=\"color: white; padding: 1.5rem; font-size: 19px\"><b>1 | INTRODUCTION</b></h4>\n",
    "</div>\n",
    "<!-- <br> -->\n",
    "\n",
    "<div style=\"display: flex; flex-direction: row; align-items: center;\">\n",
    "    <div style=\"flex: 1; margin-left: 30px; margin-top: 6px\">\n",
    "        <p style=\"font-weight: bold; color: #dc2f02; font-size: 30px\",font-weight=bold>INTRODUCTION</p>\n",
    "        <p>Hi Everyone! </p>\n",
    "        <p>My name is<b> Moavia Hassan</b>, and I am a Data Science Enthusiast. I am excited to share my findings with you.\n",
    "        <p>This is a beginner-friendly notebook that attempts to perform Exploratory Data Analysis(EDA) on the <b>Email Spam Detection Dataset</b> and train the models on this dataset and selcting the best one.\n",
    "        </p>\n",
    "        <p> Let's explore and then make results and discussion to gain deeper insights from our analysis.</p>\n",
    "        <blockquote>  If find this notebook helpful please consider upvoting ❤️</blockquote>\n",
    "    </div>\n",
    "</div>\n",
    "\n"
   ]
  },
  {
   "cell_type": "markdown",
   "metadata": {
    "vscode": {
     "languageId": "plaintext"
    }
   },
   "source": [
    "## Meta-Data (About Dataset)\n",
    "yet I have to add"
   ]
  },
  {
   "cell_type": "markdown",
   "metadata": {},
   "source": [
    "<a id=\"contents_tabel\"></a>    \n",
    "<div style=\"border-radius:40px; padding: 25px; font-size:115%; text-align:left\">\n",
    "\n",
    "\n",
    "<span style=\"color:#dc2f02; font-size: 200%; font-weight: bold;\">Table of Contents</span>\n",
    "\n",
    "* [Step 1 | Import Libraries](#import)\n",
    "* [Step 2 | Read Dataset](#read)"
   ]
  },
  {
   "cell_type": "markdown",
   "metadata": {},
   "source": [
    "<span style=\"color:#dc2f02; font-size: 200%; font-weight: bold;\">Lets get started :</span>"
   ]
  },
  {
   "cell_type": "markdown",
   "metadata": {
    "vscode": {
     "languageId": "plaintext"
    }
   },
   "source": [
    "<a id=\"import\"></a>\n",
    "# <p style=\"background-color:#ef271b; font-family:calibri; color:white; font-size:150%; text-align:center; border-radius:15px 50px;\">Step 1 | Import Libraries</p>\n",
    "\n",
    "⬆️ [Tabel of Contents](#contents_tabel)"
   ]
  },
  {
   "cell_type": "code",
   "execution_count": 35,
   "metadata": {},
   "outputs": [],
   "source": [
    "import string\n",
    "import os\n",
    "\n",
    "import pandas as pd\n",
    "import numpy as np\n",
    "\n",
    "import nltk\n",
    "from nltk.corpus import stopwords\n",
    "from nltk.stem.porter import PorterStemmer\n",
    "\n",
    "\n",
    "from sklearn.feature_extraction.text import CountVectorizer\n",
    "from sklearn.model_selection import train_test_split\n",
    "from sklearn.ensemble import RandomForestClassifier\n",
    "\n",
    "\n",
    "\n"
   ]
  },
  {
   "cell_type": "code",
   "execution_count": 36,
   "metadata": {},
   "outputs": [
    {
     "name": "stderr",
     "output_type": "stream",
     "text": [
      "[nltk_data] Downloading package stopwords to\n",
      "[nltk_data]     C:\\Users\\MoaviaHassan\\AppData\\Roaming\\nltk_data...\n",
      "[nltk_data]   Unzipping corpora\\stopwords.zip.\n"
     ]
    },
    {
     "data": {
      "text/plain": [
       "True"
      ]
     },
     "execution_count": 36,
     "metadata": {},
     "output_type": "execute_result"
    }
   ],
   "source": [
    "nltk.download('stopwords')"
   ]
  },
  {
   "cell_type": "code",
   "execution_count": 25,
   "metadata": {},
   "outputs": [],
   "source": [
    "pd.set_option('display.max_colwidth', None)"
   ]
  },
  {
   "cell_type": "markdown",
   "metadata": {},
   "source": [
    "<a id=\"import\"></a>\n",
    "# <p style=\"background-color:#ef271b; font-family:calibri; color:white; font-size:150%; text-align:center; border-radius:15px 50px;\">Step 2 | Read Dataset </p>\n",
    "\n",
    "⬆️ [Tabel of Contents](#contents_tabel)"
   ]
  },
  {
   "cell_type": "code",
   "execution_count": 8,
   "metadata": {},
   "outputs": [],
   "source": [
    "df = pd.read_csv(\"../spam_Emails_data.csv\")\n"
   ]
  },
  {
   "cell_type": "code",
   "execution_count": 11,
   "metadata": {},
   "outputs": [
    {
     "data": {
      "text/plain": [
       "(193852, 2)"
      ]
     },
     "execution_count": 11,
     "metadata": {},
     "output_type": "execute_result"
    }
   ],
   "source": [
    "df.shape"
   ]
  },
  {
   "cell_type": "code",
   "execution_count": 30,
   "metadata": {},
   "outputs": [
    {
     "data": {
      "text/html": [
       "<div>\n",
       "<style scoped>\n",
       "    .dataframe tbody tr th:only-of-type {\n",
       "        vertical-align: middle;\n",
       "    }\n",
       "\n",
       "    .dataframe tbody tr th {\n",
       "        vertical-align: top;\n",
       "    }\n",
       "\n",
       "    .dataframe thead th {\n",
       "        text-align: right;\n",
       "    }\n",
       "</style>\n",
       "<table border=\"1\" class=\"dataframe\">\n",
       "  <thead>\n",
       "    <tr style=\"text-align: right;\">\n",
       "      <th></th>\n",
       "      <th>label</th>\n",
       "      <th>text</th>\n",
       "    </tr>\n",
       "  </thead>\n",
       "  <tbody>\n",
       "    <tr>\n",
       "      <th>0</th>\n",
       "      <td>1</td>\n",
       "      <td>viiiiiiagraaaa\\nonly for the ones that want to make her scream .\\nprodigy scrawny crow define upgrade spongy balboa dither moiseyev schumann variegate ponce bernie cox angeles impassive circulate impend miscellany chalkboard whizzing pend armenian cutlet waring makeshift fletch dispel crest cadet dovetail rapprochement gerry bayreuth selectman wilmington tuttle alchemy itt bullyboy .\\ncaan ' t do . . .\\n</td>\n",
       "    </tr>\n",
       "    <tr>\n",
       "      <th>1</th>\n",
       "      <td>0</td>\n",
       "      <td>got ice thought look az original message ice operations mailto iceoperations intcx com sent friday october escapenumber escapenumber escapenumber escapenumber pm subject escapelong amended participant agreement dear participant receiving email identified company user administrator legal counsel signatory escapelong participant agreement serves notice intercontinentals intent amend agreement effective december escapenumber escapenumber relevant documentation attached includes contact information questions thank escapelong inc</td>\n",
       "    </tr>\n",
       "    <tr>\n",
       "      <th>2</th>\n",
       "      <td>1</td>\n",
       "      <td>yo ur wom an ne eds an escapenumber in ch ma n b e th at ma n f or h er le arn h ow here tu rn of f not ific ati ons here escapelong dy international exports ltd st regina escapenumber belize city belize escapelong</td>\n",
       "    </tr>\n",
       "    <tr>\n",
       "      <th>3</th>\n",
       "      <td>1</td>\n",
       "      <td>start increasing your odds of success &amp; live sexually healthy .\\neasy and imperceptible to take .\\ntake just a candy and become ready for 36 hours of love .\\n? this is most modern and safe way not to cover with shame\\n? only 15 minutes to wait\\n? fda approved\\nsoft tabs order will be packaged discreetly for your privacy and protection .\\nr % emove !\\n</td>\n",
       "    </tr>\n",
       "    <tr>\n",
       "      <th>4</th>\n",
       "      <td>0</td>\n",
       "      <td>author jra date escapenumber escapenumber escapenumber escapenumber escapenumber escapenumber escapenumber fri escapenumber jun escapenumber new revision escapenumber websvn http websvn samba org cgi bin viewcvs cgi view rev root samba rev escapenumber log first part of the patch to make apple's life easier doing this in two stages to make it very easy to review context switching must look like gain root sys setgroups ngroups groups become id uid gid re arrange order so these three calls are always seen together next will be to turn these into a function jeremy modified branches samba escapenumber escapenumber source smbd sec ctx c branches samba escapenumber escapenumber escapenumber source smbd sec ctx c changeset modified branches samba escapenumber escapenumber source smbd sec ctx c branches samba escapenumber escapenumber source smbd sec ctx c escapenumber escapenumber escapenumber escapenumber escapenumber escapenumber utc rev escapenumber branches samba escapenumber escapenumber source smbd sec ctx c escapenumber escapenumber escapenumber escapenumber escapenumber escapenumber utc rev escapenumber escapenumber escapenumber escapenumber escapenumber debug nt user token dbgc class escapenumber token debug unix user token dbgc class escapenumber uid gid ngroups groups start context switch gain root ifdef have setgroups sys setgroups ngroups groups endif become id uid gid end context switch ctx p ut ngroups ngroups escapenumber escapenumber escapenumber escapenumber ctx p token null become id uid gid ctx p ut uid uid ctx p ut gid gid escapenumber escapenumber escapenumber escapenumber sec ctx stack ndx gain root prev ctx p sec ctx stack sec ctx stack ndx start context switch gain root ifdef have setgroups sys setgroups prev ctx p ut ngroups prev ctx p ut groups endif become id prev ctx p ut uid prev ctx p ut gid end context switch update current user stuff modified branches samba escapenumber escapenumber escapenumber source smbd sec ctx c branches samba escapenumber escapenumber escapenumber source smbd sec ctx c escapenumber escapenumber escapenumber escapenumber escapenumber escapenumber utc rev escapenumber branches samba escapenumber escapenumber escapenumber source smbd sec ctx c escapenumber escapenumber escapenumber escapenumber escapenumber escapenumber utc rev escapenumber escapenumber escapenumber escapenumber escapenumber debug nt user token dbgc class escapenumber token debug unix user token dbgc class escapenumber uid gid ngroups groups start context switch gain root ifdef have setgroups sys setgroups ngroups groups endif become id uid gid end context switch ctx p ut ngroups ngroups escapenumber escapenumber escapenumber escapenumber ctx p token null become id uid gid ctx p ut uid uid ctx p ut gid gid escapenumber escapenumber escapenumber escapenumber sec ctx stack ndx gain root prev ctx p sec ctx stack sec ctx stack ndx start context switch gain root ifdef have setgroups sys setgroups prev ctx p ut ngroups prev ctx p ut groups endif become id prev ctx p ut uid prev ctx p ut gid end context switch update current user stuff</td>\n",
       "    </tr>\n",
       "  </tbody>\n",
       "</table>\n",
       "</div>"
      ],
      "text/plain": [
       "   label  \\\n",
       "0      1   \n",
       "1      0   \n",
       "2      1   \n",
       "3      1   \n",
       "4      0   \n",
       "\n",
       "                                                                                                                                                                                                                                                                                                                                                                                                                                                                                                                                                                                                                                                                                                                                                                                                                                                                                                                                                                                                                                                                                                                                                                                                                                                                                                                                                                                                                                                                                                                                                                                                                                                                                                                                                                                                                                                                                                                                                                                                                                                                                                                                                                                                                                                                                                                                                                                                                                                                                                                                                                                                                                                                                                                                                                                                                                                                                                                                                                                                                                                                                                                                                                                                                        text  \n",
       "0                                                                                                                                                                                                                                                                                                                                                                                                                                                                                                                                                                                                                                                                                                                                                                                                                                                                                                                                                                                                                                                                                                                                                                                                                                                                                                                                                                                                                                                                                                                                                                                                                                                                                                                                                                                                                                                                                                                                                                                                                                                                                                                                                                                                                                                                                                                                                                                                                                                                                                                                                                                                                                                                                                                                                                                                    viiiiiiagraaaa\\nonly for the ones that want to make her scream .\\nprodigy scrawny crow define upgrade spongy balboa dither moiseyev schumann variegate ponce bernie cox angeles impassive circulate impend miscellany chalkboard whizzing pend armenian cutlet waring makeshift fletch dispel crest cadet dovetail rapprochement gerry bayreuth selectman wilmington tuttle alchemy itt bullyboy .\\ncaan ' t do . . .\\n  \n",
       "1                                                                                                                                                                                                                                                                                                                                                                                                                                                                                                                                                                                                                                                                                                                                                                                                                                                                                                                                                                                                                                                                                                                                                                                                                                                                                                                                                                                                                                                                                                                                                                                                                                                                                                                                                                                                                                                                                                                                                                                                                                                                                                                                                                                                                                                                                                                                                                                                                                                                                                                                                                                                                                                                         got ice thought look az original message ice operations mailto iceoperations intcx com sent friday october escapenumber escapenumber escapenumber escapenumber pm subject escapelong amended participant agreement dear participant receiving email identified company user administrator legal counsel signatory escapelong participant agreement serves notice intercontinentals intent amend agreement effective december escapenumber escapenumber relevant documentation attached includes contact information questions thank escapelong inc  \n",
       "2                                                                                                                                                                                                                                                                                                                                                                                                                                                                                                                                                                                                                                                                                                                                                                                                                                                                                                                                                                                                                                                                                                                                                                                                                                                                                                                                                                                                                                                                                                                                                                                                                                                                                                                                                                                                                                                                                                                                                                                                                                                                                                                                                                                                                                                                                                                                                                                                                                                                                                                                                                                                                                                                                                                                                                                                                                                                                                                                                                                                    yo ur wom an ne eds an escapenumber in ch ma n b e th at ma n f or h er le arn h ow here tu rn of f not ific ati ons here escapelong dy international exports ltd st regina escapenumber belize city belize escapelong   \n",
       "3                                                                                                                                                                                                                                                                                                                                                                                                                                                                                                                                                                                                                                                                                                                                                                                                                                                                                                                                                                                                                                                                                                                                                                                                                                                                                                                                                                                                                                                                                                                                                                                                                                                                                                                                                                                                                                                                                                                                                                                                                                                                                                                                                                                                                                                                                                                                                                                                                                                                                                                                                                                                                                                                                                                                                                                                                                                          start increasing your odds of success & live sexually healthy .\\neasy and imperceptible to take .\\ntake just a candy and become ready for 36 hours of love .\\n? this is most modern and safe way not to cover with shame\\n? only 15 minutes to wait\\n? fda approved\\nsoft tabs order will be packaged discreetly for your privacy and protection .\\nr % emove !\\n  \n",
       "4  author jra date escapenumber escapenumber escapenumber escapenumber escapenumber escapenumber escapenumber fri escapenumber jun escapenumber new revision escapenumber websvn http websvn samba org cgi bin viewcvs cgi view rev root samba rev escapenumber log first part of the patch to make apple's life easier doing this in two stages to make it very easy to review context switching must look like gain root sys setgroups ngroups groups become id uid gid re arrange order so these three calls are always seen together next will be to turn these into a function jeremy modified branches samba escapenumber escapenumber source smbd sec ctx c branches samba escapenumber escapenumber escapenumber source smbd sec ctx c changeset modified branches samba escapenumber escapenumber source smbd sec ctx c branches samba escapenumber escapenumber source smbd sec ctx c escapenumber escapenumber escapenumber escapenumber escapenumber escapenumber utc rev escapenumber branches samba escapenumber escapenumber source smbd sec ctx c escapenumber escapenumber escapenumber escapenumber escapenumber escapenumber utc rev escapenumber escapenumber escapenumber escapenumber escapenumber debug nt user token dbgc class escapenumber token debug unix user token dbgc class escapenumber uid gid ngroups groups start context switch gain root ifdef have setgroups sys setgroups ngroups groups endif become id uid gid end context switch ctx p ut ngroups ngroups escapenumber escapenumber escapenumber escapenumber ctx p token null become id uid gid ctx p ut uid uid ctx p ut gid gid escapenumber escapenumber escapenumber escapenumber sec ctx stack ndx gain root prev ctx p sec ctx stack sec ctx stack ndx start context switch gain root ifdef have setgroups sys setgroups prev ctx p ut ngroups prev ctx p ut groups endif become id prev ctx p ut uid prev ctx p ut gid end context switch update current user stuff modified branches samba escapenumber escapenumber escapenumber source smbd sec ctx c branches samba escapenumber escapenumber escapenumber source smbd sec ctx c escapenumber escapenumber escapenumber escapenumber escapenumber escapenumber utc rev escapenumber branches samba escapenumber escapenumber escapenumber source smbd sec ctx c escapenumber escapenumber escapenumber escapenumber escapenumber escapenumber utc rev escapenumber escapenumber escapenumber escapenumber escapenumber debug nt user token dbgc class escapenumber token debug unix user token dbgc class escapenumber uid gid ngroups groups start context switch gain root ifdef have setgroups sys setgroups ngroups groups endif become id uid gid end context switch ctx p ut ngroups ngroups escapenumber escapenumber escapenumber escapenumber ctx p token null become id uid gid ctx p ut uid uid ctx p ut gid gid escapenumber escapenumber escapenumber escapenumber sec ctx stack ndx gain root prev ctx p sec ctx stack sec ctx stack ndx start context switch gain root ifdef have setgroups sys setgroups prev ctx p ut ngroups prev ctx p ut groups endif become id prev ctx p ut uid prev ctx p ut gid end context switch update current user stuff   "
      ]
     },
     "execution_count": 30,
     "metadata": {},
     "output_type": "execute_result"
    }
   ],
   "source": [
    "df.head(5)"
   ]
  },
  {
   "cell_type": "code",
   "execution_count": 21,
   "metadata": {},
   "outputs": [
    {
     "data": {
      "text/plain": [
       "2"
      ]
     },
     "execution_count": 21,
     "metadata": {},
     "output_type": "execute_result"
    }
   ],
   "source": [
    "df['label'].nunique()"
   ]
  },
  {
   "cell_type": "code",
   "execution_count": 22,
   "metadata": {},
   "outputs": [],
   "source": [
    "df = df[df['label'].isin(['Spam', 'Ham'])]"
   ]
  },
  {
   "cell_type": "code",
   "execution_count": 24,
   "metadata": {},
   "outputs": [
    {
     "data": {
      "text/plain": [
       "(193852, 2)"
      ]
     },
     "execution_count": 24,
     "metadata": {},
     "output_type": "execute_result"
    }
   ],
   "source": [
    "df.shape"
   ]
  },
  {
   "cell_type": "code",
   "execution_count": 28,
   "metadata": {},
   "outputs": [],
   "source": [
    "encoding_group = {\n",
    "    \"Spam\" : 1,\n",
    "    \"Ham\" : 0\n",
    "}\n",
    "df['label'] = df['label'].map(encoding_group)"
   ]
  },
  {
   "cell_type": "code",
   "execution_count": 39,
   "metadata": {},
   "outputs": [
    {
     "data": {
      "text/html": [
       "<div>\n",
       "<style scoped>\n",
       "    .dataframe tbody tr th:only-of-type {\n",
       "        vertical-align: middle;\n",
       "    }\n",
       "\n",
       "    .dataframe tbody tr th {\n",
       "        vertical-align: top;\n",
       "    }\n",
       "\n",
       "    .dataframe thead th {\n",
       "        text-align: right;\n",
       "    }\n",
       "</style>\n",
       "<table border=\"1\" class=\"dataframe\">\n",
       "  <thead>\n",
       "    <tr style=\"text-align: right;\">\n",
       "      <th></th>\n",
       "      <th>label</th>\n",
       "      <th>text</th>\n",
       "    </tr>\n",
       "  </thead>\n",
       "  <tbody>\n",
       "    <tr>\n",
       "      <th>189587</th>\n",
       "      <td>0</td>\n",
       "      <td>subject call data please post text follows new words native languages call data information newly coined words native american language would willing share information name laura roller graduate student direction dr elizabeth brandt department anthropology arizona state university researching new words coined native american languages including native hawaiian semantic content research part larger project investigating native american language renewal seeking examples coined words along morphological semantic analysis assist nonspeaker kind information would like hear participation course voluntary return information considered consent participate research contact laura roller asu edu besides initial contact followup questioning via email telephone may necessary questions research design may directed dr elizabeth brandt brandt anthro la asu edu</td>\n",
       "    </tr>\n",
       "    <tr>\n",
       "      <th>24721</th>\n",
       "      <td>0</td>\n",
       "      <td>hello this simply isn't working for me i've killed speakup on ttyescapenumber after starting gnome and orca but the speakup keypad review keys still say blank and preempt orca's review keys could the fact i'm using a software synthesizer have something to do with this is this a bug fixed in later speakup versions thanks zack original message from adam myrow to 'speakup is a screen review system for linux ' sent saturday april escapenumber escapenumber escapenumber escapenumber pm subject re stopping speakup while using gnome you have to kill speakup after you start gnome the reason is that when x starts it allocates itself a new virtual terminal the commands to kill speakup only effect the virtual console that they are run from let's say you are on ttyescapenumber which is the case when you first log in when x starts it will turn ttyescapenumber into a console for error messages and debugging output x will get the first free tty using slackware as an example this will be ttyescapenumber since slackware allocates escapenumber ttys by default at boot time assuming you are in run level escapenumber thus the command to kill speakup should be given once gnome is up and running hth original message from speakup bounces braille uwo ca mailto speakup bounces braille uwo ca on behalf of darragh sent saturday april escapenumber escapenumber escapenumber escapenumber pm to speakup subject stopping speakup while using gnome hello how can i stop speakup listening for key presses when i'm in gnome i've tried pressing the i think it's the scrole lock i cant remember the name of the button sorry it's late it's the third button in from the top row on the right that says you killed speakup then i press insert and enter and it says you turned me off but when i'm in gnome and i'm using orca keystrokes speakup starts talking again i don't want to unlode speakup from memory as i often go back to a console to continue working on other things so i would really like to know how to just temporarily stop it or maybe i do need to completely unlode the module but how do i do this without needing a reboot to get it working again using modprobe speakup apollo doesn't work after using the command rmmod now i may have that rmmod command wrong it's been some time since i used it and as i said it's late and i'm probably not thinking as clarly as usual thanks in advance speakup mailing list speakup braille uwo ca http speech braille uwo ca mailman listinfo speakup speakup mailing list speakup braille uwo ca http speech braille uwo ca mailman listinfo speakup speakup mailing list speakup braille uwo ca http speech braille uwo ca mailman listinfo speakup</td>\n",
       "    </tr>\n",
       "    <tr>\n",
       "      <th>49993</th>\n",
       "      <td>0</td>\n",
       "      <td>attached minutes meeting also production log please review let know stated anything incorrectly office starting escapenumber escapenumber thru escapenumber escapenumber please forward time would available weekly meeting set one return thanks jeanne original message sawyer lisa sent wednesday january escapenumber escapenumber escapenumber escapenumber pm licciardo jeanne subject fw february escapenumber capacity analysis system cas meeting importance high fyi original message abdmoulaie mansoor sent wednesday january escapenumber escapenumber escapenumber escapenumber pm stacy watson kimberly donoho lindy lokay michelle lee dennis sawyer lisa frazier perry matthews ron asante ben gigliotti mark subject february escapenumber capacity analysis system cas meeting importance high great concern tw planning marketing existing cas system responding expectations corrected numerous bugs program getting solutions production side somewhat slow caused delay facility planning marketing group lets plan talk new features marketing requested cas system pipeline facility planning arranging meeting friday feb escapenumber escapenumber escapenumber escapenumber pm room escapenumber discuss concerned issues regards mansoor abdmoulaie perry frazier escapenumber escapenumber</td>\n",
       "    </tr>\n",
       "    <tr>\n",
       "      <th>96959</th>\n",
       "      <td>1</td>\n",
       "      <td>a new academy love to do three mornings true toys warning new unique homoeopathic preparation will enlarge your mojo xtrasize for creation xtrasize used only natural ingredients different medical plants thats why our preparation gained popularityover the whole world by men for this moment we have wrist watches reduction from the whole world join to them check this site out places to play are scarce the report says just do their with the other kids but so does living jennifer gervasio on the floor with one day a week</td>\n",
       "    </tr>\n",
       "    <tr>\n",
       "      <th>24857</th>\n",
       "      <td>0</td>\n",
       "      <td>bob dinerstein head ubs warburg legal arriving thursday february escapenumber bob would like spend hour business leaders discuss energy market regulatory legal environment reserved conference rm escapenumber meeting escapenumber escapenumber p cst dial number listed please advise unable participate dial number escapenumber escapenumber escapenumber host code escapenumber louise participant code escapenumber many thanks liz taylor assistant greg whalley escapenumber escapenumber escapenumber office escapenumber escapenumber escapenumber fax escapenumber escapenumber escapenumber mobile</td>\n",
       "    </tr>\n",
       "  </tbody>\n",
       "</table>\n",
       "</div>"
      ],
      "text/plain": [
       "        label  \\\n",
       "189587      0   \n",
       "24721       0   \n",
       "49993       0   \n",
       "96959       1   \n",
       "24857       0   \n",
       "\n",
       "                                                                                                                                                                                                                                                                                                                                                                                                                                                                                                                                                                                                                                                                                                                                                                                                                                                                                                                                                                                                                                                                                                                                                                                                                                                                                                                                                                                                                                                                                                                                                                                                                                                                                                                                                                                                                                                                                                                                                                                                                                                                                                                                                                                                                                                                                                                                                                                                                                                                                                                                                                                                                                                                                                                                                                            text  \n",
       "189587                                                                                                                                                                                                                                                                                                                                                                                                                                                                                                                                                                                                                                                                                                                                                                                                                                                                                                                                                                                                                                                                                                                                                                                                                                                                                                                                                                                                                                                                                                                                                                                                                                                                                                                                                                                                                                                                                  subject call data please post text follows new words native languages call data information newly coined words native american language would willing share information name laura roller graduate student direction dr elizabeth brandt department anthropology arizona state university researching new words coined native american languages including native hawaiian semantic content research part larger project investigating native american language renewal seeking examples coined words along morphological semantic analysis assist nonspeaker kind information would like hear participation course voluntary return information considered consent participate research contact laura roller asu edu besides initial contact followup questioning via email telephone may necessary questions research design may directed dr elizabeth brandt brandt anthro la asu edu  \n",
       "24721   hello this simply isn't working for me i've killed speakup on ttyescapenumber after starting gnome and orca but the speakup keypad review keys still say blank and preempt orca's review keys could the fact i'm using a software synthesizer have something to do with this is this a bug fixed in later speakup versions thanks zack original message from adam myrow to 'speakup is a screen review system for linux ' sent saturday april escapenumber escapenumber escapenumber escapenumber pm subject re stopping speakup while using gnome you have to kill speakup after you start gnome the reason is that when x starts it allocates itself a new virtual terminal the commands to kill speakup only effect the virtual console that they are run from let's say you are on ttyescapenumber which is the case when you first log in when x starts it will turn ttyescapenumber into a console for error messages and debugging output x will get the first free tty using slackware as an example this will be ttyescapenumber since slackware allocates escapenumber ttys by default at boot time assuming you are in run level escapenumber thus the command to kill speakup should be given once gnome is up and running hth original message from speakup bounces braille uwo ca mailto speakup bounces braille uwo ca on behalf of darragh sent saturday april escapenumber escapenumber escapenumber escapenumber pm to speakup subject stopping speakup while using gnome hello how can i stop speakup listening for key presses when i'm in gnome i've tried pressing the i think it's the scrole lock i cant remember the name of the button sorry it's late it's the third button in from the top row on the right that says you killed speakup then i press insert and enter and it says you turned me off but when i'm in gnome and i'm using orca keystrokes speakup starts talking again i don't want to unlode speakup from memory as i often go back to a console to continue working on other things so i would really like to know how to just temporarily stop it or maybe i do need to completely unlode the module but how do i do this without needing a reboot to get it working again using modprobe speakup apollo doesn't work after using the command rmmod now i may have that rmmod command wrong it's been some time since i used it and as i said it's late and i'm probably not thinking as clarly as usual thanks in advance speakup mailing list speakup braille uwo ca http speech braille uwo ca mailman listinfo speakup speakup mailing list speakup braille uwo ca http speech braille uwo ca mailman listinfo speakup speakup mailing list speakup braille uwo ca http speech braille uwo ca mailman listinfo speakup  \n",
       "49993                                                                                                                                                                                                                                                                                                                                                                                                                                                                                                                                                                                                                                                                                                                                                                                                                                                                                                                                                                                                                                                                                                                                                                                                                                                                                                                                                                                                                                                   attached minutes meeting also production log please review let know stated anything incorrectly office starting escapenumber escapenumber thru escapenumber escapenumber please forward time would available weekly meeting set one return thanks jeanne original message sawyer lisa sent wednesday january escapenumber escapenumber escapenumber escapenumber pm licciardo jeanne subject fw february escapenumber capacity analysis system cas meeting importance high fyi original message abdmoulaie mansoor sent wednesday january escapenumber escapenumber escapenumber escapenumber pm stacy watson kimberly donoho lindy lokay michelle lee dennis sawyer lisa frazier perry matthews ron asante ben gigliotti mark subject february escapenumber capacity analysis system cas meeting importance high great concern tw planning marketing existing cas system responding expectations corrected numerous bugs program getting solutions production side somewhat slow caused delay facility planning marketing group lets plan talk new features marketing requested cas system pipeline facility planning arranging meeting friday feb escapenumber escapenumber escapenumber escapenumber pm room escapenumber discuss concerned issues regards mansoor abdmoulaie perry frazier escapenumber escapenumber  \n",
       "96959                                                                                                                                                                                                                                                                                                                                                                                                                                                                                                                                                                                                                                                                                                                                                                                                                                                                                                                                                                                                                                                                                                                                                                                                                                                                                                                                                                                                                                                                                                                                                                                                                                                                                                                                                                                                                                                                                                                                                                                                                                                                                                                                                                                                                                a new academy love to do three mornings true toys warning new unique homoeopathic preparation will enlarge your mojo xtrasize for creation xtrasize used only natural ingredients different medical plants thats why our preparation gained popularityover the whole world by men for this moment we have wrist watches reduction from the whole world join to them check this site out places to play are scarce the report says just do their with the other kids but so does living jennifer gervasio on the floor with one day a week   \n",
       "24857                                                                                                                                                                                                                                                                                                                                                                                                                                                                                                                                                                                                                                                                                                                                                                                                                                                                                                                                                                                                                                                                                                                                                                                                                                                                                                                                                                                                                                                                                                                                                                                                                                                                                                                                                                                                                                                                                                                                                                                                                                                                                                                                                            bob dinerstein head ubs warburg legal arriving thursday february escapenumber bob would like spend hour business leaders discuss energy market regulatory legal environment reserved conference rm escapenumber meeting escapenumber escapenumber p cst dial number listed please advise unable participate dial number escapenumber escapenumber escapenumber host code escapenumber louise participant code escapenumber many thanks liz taylor assistant greg whalley escapenumber escapenumber escapenumber office escapenumber escapenumber escapenumber fax escapenumber escapenumber escapenumber mobile  "
      ]
     },
     "execution_count": 39,
     "metadata": {},
     "output_type": "execute_result"
    }
  
   ],
   "source": [
    "df.sample(5)"
   ]
  },
  {
   "cell_type": "markdown",
   "metadata": {},
   "source": [
    "## Video Steps "
   ]
  },
  {
   "cell_type": "markdown",
   "metadata": {},
   "source": [
    "Removing new line characters and others Like \\r , \\n"
   ]
  },
  {
   "cell_type": "code",
   "execution_count": 38,
   "metadata": {},
   "outputs": [
    {
     "ename": "AttributeError",
     "evalue": "'float' object has no attribute 'replace'",
     "output_type": "error",
     "traceback": [
      "\u001b[1;31m---------------------------------------------------------------------------\u001b[0m",
      "\u001b[1;31mAttributeError\u001b[0m                            Traceback (most recent call last)",
      "Cell \u001b[1;32mIn[38], line 1\u001b[0m\n\u001b[1;32m----> 1\u001b[0m df[\u001b[38;5;124m'\u001b[39m\u001b[38;5;124mtext\u001b[39m\u001b[38;5;124m'\u001b[39m] \u001b[38;5;241m=\u001b[39m \u001b[43mdf\u001b[49m\u001b[43m[\u001b[49m\u001b[38;5;124;43m'\u001b[39;49m\u001b[38;5;124;43mtext\u001b[39;49m\u001b[38;5;124;43m'\u001b[39;49m\u001b[43m]\u001b[49m\u001b[38;5;241;43m.\u001b[39;49m\u001b[43mapply\u001b[49m\u001b[43m(\u001b[49m\u001b[38;5;28;43;01mlambda\u001b[39;49;00m\u001b[43m \u001b[49m\u001b[43mx\u001b[49m\u001b[43m:\u001b[49m\u001b[43m \u001b[49m\u001b[43mx\u001b[49m\u001b[38;5;241;43m.\u001b[39;49m\u001b[43mreplace\u001b[49m\u001b[43m(\u001b[49m\u001b[38;5;124;43m'\u001b[39;49m\u001b[38;5;130;43;01m\\r\u001b[39;49;00m\u001b[38;5;130;43;01m\\n\u001b[39;49;00m\u001b[38;5;124;43m'\u001b[39;49m\u001b[43m,\u001b[49m\u001b[38;5;124;43m'\u001b[39;49m\u001b[38;5;124;43m \u001b[39;49m\u001b[38;5;124;43m'\u001b[39;49m\u001b[43m)\u001b[49m\u001b[43m)\u001b[49m\n",
      "File \u001b[1;32mc:\\Users\\MoaviaHassan\\miniconda3\\envs\\spam\\Lib\\site-packages\\pandas\\core\\series.py:4924\u001b[0m, in \u001b[0;36mSeries.apply\u001b[1;34m(self, func, convert_dtype, args, by_row, **kwargs)\u001b[0m\n\u001b[0;32m   4789\u001b[0m \u001b[38;5;28;01mdef\u001b[39;00m\u001b[38;5;250m \u001b[39m\u001b[38;5;21mapply\u001b[39m(\n\u001b[0;32m   4790\u001b[0m     \u001b[38;5;28mself\u001b[39m,\n\u001b[0;32m   4791\u001b[0m     func: AggFuncType,\n\u001b[1;32m   (...)\u001b[0m\n\u001b[0;32m   4796\u001b[0m     \u001b[38;5;241m*\u001b[39m\u001b[38;5;241m*\u001b[39mkwargs,\n\u001b[0;32m   4797\u001b[0m ) \u001b[38;5;241m-\u001b[39m\u001b[38;5;241m>\u001b[39m DataFrame \u001b[38;5;241m|\u001b[39m Series:\n\u001b[0;32m   4798\u001b[0m \u001b[38;5;250m    \u001b[39m\u001b[38;5;124;03m\"\"\"\u001b[39;00m\n\u001b[0;32m   4799\u001b[0m \u001b[38;5;124;03m    Invoke function on values of Series.\u001b[39;00m\n\u001b[0;32m   4800\u001b[0m \n\u001b[1;32m   (...)\u001b[0m\n\u001b[0;32m   4915\u001b[0m \u001b[38;5;124;03m    dtype: float64\u001b[39;00m\n\u001b[0;32m   4916\u001b[0m \u001b[38;5;124;03m    \"\"\"\u001b[39;00m\n\u001b[0;32m   4917\u001b[0m     \u001b[38;5;28;01mreturn\u001b[39;00m \u001b[43mSeriesApply\u001b[49m\u001b[43m(\u001b[49m\n\u001b[0;32m   4918\u001b[0m \u001b[43m        \u001b[49m\u001b[38;5;28;43mself\u001b[39;49m\u001b[43m,\u001b[49m\n\u001b[0;32m   4919\u001b[0m \u001b[43m        \u001b[49m\u001b[43mfunc\u001b[49m\u001b[43m,\u001b[49m\n\u001b[0;32m   4920\u001b[0m \u001b[43m        \u001b[49m\u001b[43mconvert_dtype\u001b[49m\u001b[38;5;241;43m=\u001b[39;49m\u001b[43mconvert_dtype\u001b[49m\u001b[43m,\u001b[49m\n\u001b[0;32m   4921\u001b[0m \u001b[43m        \u001b[49m\u001b[43mby_row\u001b[49m\u001b[38;5;241;43m=\u001b[39;49m\u001b[43mby_row\u001b[49m\u001b[43m,\u001b[49m\n\u001b[0;32m   4922\u001b[0m \u001b[43m        \u001b[49m\u001b[43margs\u001b[49m\u001b[38;5;241;43m=\u001b[39;49m\u001b[43margs\u001b[49m\u001b[43m,\u001b[49m\n\u001b[0;32m   4923\u001b[0m \u001b[43m        \u001b[49m\u001b[43mkwargs\u001b[49m\u001b[38;5;241;43m=\u001b[39;49m\u001b[43mkwargs\u001b[49m\u001b[43m,\u001b[49m\n\u001b[1;32m-> 4924\u001b[0m \u001b[43m    \u001b[49m\u001b[43m)\u001b[49m\u001b[38;5;241;43m.\u001b[39;49m\u001b[43mapply\u001b[49m\u001b[43m(\u001b[49m\u001b[43m)\u001b[49m\n",
      "File \u001b[1;32mc:\\Users\\MoaviaHassan\\miniconda3\\envs\\spam\\Lib\\site-packages\\pandas\\core\\apply.py:1427\u001b[0m, in \u001b[0;36mSeriesApply.apply\u001b[1;34m(self)\u001b[0m\n\u001b[0;32m   1424\u001b[0m     \u001b[38;5;28;01mreturn\u001b[39;00m \u001b[38;5;28mself\u001b[39m\u001b[38;5;241m.\u001b[39mapply_compat()\n\u001b[0;32m   1426\u001b[0m \u001b[38;5;66;03m# self.func is Callable\u001b[39;00m\n\u001b[1;32m-> 1427\u001b[0m \u001b[38;5;28;01mreturn\u001b[39;00m \u001b[38;5;28;43mself\u001b[39;49m\u001b[38;5;241;43m.\u001b[39;49m\u001b[43mapply_standard\u001b[49m\u001b[43m(\u001b[49m\u001b[43m)\u001b[49m\n",
      "File \u001b[1;32mc:\\Users\\MoaviaHassan\\miniconda3\\envs\\spam\\Lib\\site-packages\\pandas\\core\\apply.py:1507\u001b[0m, in \u001b[0;36mSeriesApply.apply_standard\u001b[1;34m(self)\u001b[0m\n\u001b[0;32m   1501\u001b[0m \u001b[38;5;66;03m# row-wise access\u001b[39;00m\n\u001b[0;32m   1502\u001b[0m \u001b[38;5;66;03m# apply doesn't have a `na_action` keyword and for backward compat reasons\u001b[39;00m\n\u001b[0;32m   1503\u001b[0m \u001b[38;5;66;03m# we need to give `na_action=\"ignore\"` for categorical data.\u001b[39;00m\n\u001b[0;32m   1504\u001b[0m \u001b[38;5;66;03m# TODO: remove the `na_action=\"ignore\"` when that default has been changed in\u001b[39;00m\n\u001b[0;32m   1505\u001b[0m \u001b[38;5;66;03m#  Categorical (GH51645).\u001b[39;00m\n\u001b[0;32m   1506\u001b[0m action \u001b[38;5;241m=\u001b[39m \u001b[38;5;124m\"\u001b[39m\u001b[38;5;124mignore\u001b[39m\u001b[38;5;124m\"\u001b[39m \u001b[38;5;28;01mif\u001b[39;00m \u001b[38;5;28misinstance\u001b[39m(obj\u001b[38;5;241m.\u001b[39mdtype, CategoricalDtype) \u001b[38;5;28;01melse\u001b[39;00m \u001b[38;5;28;01mNone\u001b[39;00m\n\u001b[1;32m-> 1507\u001b[0m mapped \u001b[38;5;241m=\u001b[39m \u001b[43mobj\u001b[49m\u001b[38;5;241;43m.\u001b[39;49m\u001b[43m_map_values\u001b[49m\u001b[43m(\u001b[49m\n\u001b[0;32m   1508\u001b[0m \u001b[43m    \u001b[49m\u001b[43mmapper\u001b[49m\u001b[38;5;241;43m=\u001b[39;49m\u001b[43mcurried\u001b[49m\u001b[43m,\u001b[49m\u001b[43m \u001b[49m\u001b[43mna_action\u001b[49m\u001b[38;5;241;43m=\u001b[39;49m\u001b[43maction\u001b[49m\u001b[43m,\u001b[49m\u001b[43m \u001b[49m\u001b[43mconvert\u001b[49m\u001b[38;5;241;43m=\u001b[39;49m\u001b[38;5;28;43mself\u001b[39;49m\u001b[38;5;241;43m.\u001b[39;49m\u001b[43mconvert_dtype\u001b[49m\n\u001b[0;32m   1509\u001b[0m \u001b[43m\u001b[49m\u001b[43m)\u001b[49m\n\u001b[0;32m   1511\u001b[0m \u001b[38;5;28;01mif\u001b[39;00m \u001b[38;5;28mlen\u001b[39m(mapped) \u001b[38;5;129;01mand\u001b[39;00m \u001b[38;5;28misinstance\u001b[39m(mapped[\u001b[38;5;241m0\u001b[39m], ABCSeries):\n\u001b[0;32m   1512\u001b[0m     \u001b[38;5;66;03m# GH#43986 Need to do list(mapped) in order to get treated as nested\u001b[39;00m\n\u001b[0;32m   1513\u001b[0m     \u001b[38;5;66;03m#  See also GH#25959 regarding EA support\u001b[39;00m\n\u001b[0;32m   1514\u001b[0m     \u001b[38;5;28;01mreturn\u001b[39;00m obj\u001b[38;5;241m.\u001b[39m_constructor_expanddim(\u001b[38;5;28mlist\u001b[39m(mapped), index\u001b[38;5;241m=\u001b[39mobj\u001b[38;5;241m.\u001b[39mindex)\n",
      "File \u001b[1;32mc:\\Users\\MoaviaHassan\\miniconda3\\envs\\spam\\Lib\\site-packages\\pandas\\core\\base.py:921\u001b[0m, in \u001b[0;36mIndexOpsMixin._map_values\u001b[1;34m(self, mapper, na_action, convert)\u001b[0m\n\u001b[0;32m    918\u001b[0m \u001b[38;5;28;01mif\u001b[39;00m \u001b[38;5;28misinstance\u001b[39m(arr, ExtensionArray):\n\u001b[0;32m    919\u001b[0m     \u001b[38;5;28;01mreturn\u001b[39;00m arr\u001b[38;5;241m.\u001b[39mmap(mapper, na_action\u001b[38;5;241m=\u001b[39mna_action)\n\u001b[1;32m--> 921\u001b[0m \u001b[38;5;28;01mreturn\u001b[39;00m \u001b[43malgorithms\u001b[49m\u001b[38;5;241;43m.\u001b[39;49m\u001b[43mmap_array\u001b[49m\u001b[43m(\u001b[49m\u001b[43marr\u001b[49m\u001b[43m,\u001b[49m\u001b[43m \u001b[49m\u001b[43mmapper\u001b[49m\u001b[43m,\u001b[49m\u001b[43m \u001b[49m\u001b[43mna_action\u001b[49m\u001b[38;5;241;43m=\u001b[39;49m\u001b[43mna_action\u001b[49m\u001b[43m,\u001b[49m\u001b[43m \u001b[49m\u001b[43mconvert\u001b[49m\u001b[38;5;241;43m=\u001b[39;49m\u001b[43mconvert\u001b[49m\u001b[43m)\u001b[49m\n",
      "File \u001b[1;32mc:\\Users\\MoaviaHassan\\miniconda3\\envs\\spam\\Lib\\site-packages\\pandas\\core\\algorithms.py:1743\u001b[0m, in \u001b[0;36mmap_array\u001b[1;34m(arr, mapper, na_action, convert)\u001b[0m\n\u001b[0;32m   1741\u001b[0m values \u001b[38;5;241m=\u001b[39m arr\u001b[38;5;241m.\u001b[39mastype(\u001b[38;5;28mobject\u001b[39m, copy\u001b[38;5;241m=\u001b[39m\u001b[38;5;28;01mFalse\u001b[39;00m)\n\u001b[0;32m   1742\u001b[0m \u001b[38;5;28;01mif\u001b[39;00m na_action \u001b[38;5;129;01mis\u001b[39;00m \u001b[38;5;28;01mNone\u001b[39;00m:\n\u001b[1;32m-> 1743\u001b[0m     \u001b[38;5;28;01mreturn\u001b[39;00m \u001b[43mlib\u001b[49m\u001b[38;5;241;43m.\u001b[39;49m\u001b[43mmap_infer\u001b[49m\u001b[43m(\u001b[49m\u001b[43mvalues\u001b[49m\u001b[43m,\u001b[49m\u001b[43m \u001b[49m\u001b[43mmapper\u001b[49m\u001b[43m,\u001b[49m\u001b[43m \u001b[49m\u001b[43mconvert\u001b[49m\u001b[38;5;241;43m=\u001b[39;49m\u001b[43mconvert\u001b[49m\u001b[43m)\u001b[49m\n\u001b[0;32m   1744\u001b[0m \u001b[38;5;28;01melse\u001b[39;00m:\n\u001b[0;32m   1745\u001b[0m     \u001b[38;5;28;01mreturn\u001b[39;00m lib\u001b[38;5;241m.\u001b[39mmap_infer_mask(\n\u001b[0;32m   1746\u001b[0m         values, mapper, mask\u001b[38;5;241m=\u001b[39misna(values)\u001b[38;5;241m.\u001b[39mview(np\u001b[38;5;241m.\u001b[39muint8), convert\u001b[38;5;241m=\u001b[39mconvert\n\u001b[0;32m   1747\u001b[0m     )\n",
      "File \u001b[1;32mlib.pyx:2972\u001b[0m, in \u001b[0;36mpandas._libs.lib.map_infer\u001b[1;34m()\u001b[0m\n",
      "Cell \u001b[1;32mIn[38], line 1\u001b[0m, in \u001b[0;36m<lambda>\u001b[1;34m(x)\u001b[0m\n\u001b[1;32m----> 1\u001b[0m df[\u001b[38;5;124m'\u001b[39m\u001b[38;5;124mtext\u001b[39m\u001b[38;5;124m'\u001b[39m] \u001b[38;5;241m=\u001b[39m df[\u001b[38;5;124m'\u001b[39m\u001b[38;5;124mtext\u001b[39m\u001b[38;5;124m'\u001b[39m]\u001b[38;5;241m.\u001b[39mapply(\u001b[38;5;28;01mlambda\u001b[39;00m x: \u001b[43mx\u001b[49m\u001b[38;5;241;43m.\u001b[39;49m\u001b[43mreplace\u001b[49m(\u001b[38;5;124m'\u001b[39m\u001b[38;5;130;01m\\r\u001b[39;00m\u001b[38;5;130;01m\\n\u001b[39;00m\u001b[38;5;124m'\u001b[39m,\u001b[38;5;124m'\u001b[39m\u001b[38;5;124m \u001b[39m\u001b[38;5;124m'\u001b[39m))\n",
      "\u001b[1;31mAttributeError\u001b[0m: 'float' object has no attribute 'replace'"
     ]
    }
   ],
   "source": [
    "df['text'] = df['text'].apply(lambda x: x.replace('\\r\\n',' '))"
   ]
  },
  {
   "cell_type": "code",
   "execution_count": 42,
   "metadata": {},
   "outputs": [
    {
     "data": {
      "text/plain": [
       "'yo ur wom an ne eds an escapenumber in ch ma n b e th at ma n f or h er le arn h ow here tu rn of f not ific ati ons here escapelong dy international exports ltd st regina escapenumber belize city belize escapelong '"
      ]
     },
     "execution_count": 42,
     "metadata": {},
     "output_type": "execute_result"
    }
   ],
   "source": [
    "df.text.iloc[2]"
   ]
  }
 ],
 "metadata": {
  "kernelspec": {
   "display_name": "spam",
   "language": "python",
   "name": "python3"
  },
  "language_info": {
   "codemirror_mode": {
    "name": "ipython",
    "version": 3
   },
   "file_extension": ".py",
   "mimetype": "text/x-python",
   "name": "python",
   "nbconvert_exporter": "python",
   "pygments_lexer": "ipython3",
   "version": "3.13.1"
  }
 },
 "nbformat": 4,
 "nbformat_minor": 2
}
