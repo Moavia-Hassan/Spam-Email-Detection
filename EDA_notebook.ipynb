{
 "cells": [
  {
   "cell_type": "markdown",
   "metadata": {},
   "source": [
    "<!-- # <span style=\"color:#FFFFFF; font-size: 0%;\">1 | Introduction</span>\n",
    "<div style=\"border-radius: 0px; background-color: #112241; text-align:center;\">\n",
    "    <h4 style=\"color: white; padding: 1.5rem; font-size: 19px\"><b>1 | INTRODUCTION</b></h4>\n",
    "</div>\n",
    "<!-- <br> -->\n",
    "\n",
    "<div style=\"display: flex; flex-direction: row; align-items: center;\">\n",
    "    <div style=\"flex: 1; margin-left: 30px; margin-top: 6px\">\n",
    "        <p style=\"font-weight: bold; color: #1E90FF; font-size: 30px\",font-weight=bold>INTRODUCTION</p>\n",
    "        <p>Hi Everyone! </p>  \n",
    "        <p>Our names are <b>Moavia Hassan</b> and <b>Muhammad Ilyas</b>, and we are Data Science Enthusiasts. We are excited to share our findings with you.  \n",
    "        <p>This is a beginner-friendly notebook that attempts to perform Exploratory Data Analysis (EDA) on the <b>Email Spam Detection Dataset</b>, train models on this dataset, and select the best one.\n",
    "        <p> Let's explore and then make results and discussion to gain deeper insights from our analysis.</p>\n",
    "        <blockquote>  If find this notebook helpful please consider upvoting ❤️</blockquote>\n",
    "    </div>\n",
    "</div>\n",
    "\n"
   ]
  },
  {
   "cell_type": "markdown",
   "metadata": {
    "vscode": {
     "languageId": "plaintext"
    }
   },
   "source": [
    "## Meta-Data (About Dataset)\n",
    "yet I have to add"
   ]
  },
  {
   "cell_type": "markdown",
   "metadata": {},
   "source": [
    "<a id=\"contents_tabel\"></a>    \n",
    "<div style=\"border-radius:40px; padding: 25px; font-size:115%; text-align:left\">\n",
    "\n",
    "\n",
    "<span style=\"color: #1E90FF; font-size: 200%; font-weight: bold;\">Table of Contents</span>\n",
    "\n",
    "* [Step 1 | Import Libraries](#import)\n",
    "* [Step 2 | Read Dataset](#read)"
   ]
  },
  {
   "cell_type": "markdown",
   "metadata": {},
   "source": [
    "<span style=\"color: #1E90FF; font-size: 200%; font-weight: bold;\">Lets get started :</span>"
   ]
  },
  {
   "cell_type": "markdown",
   "metadata": {
    "vscode": {
     "languageId": "plaintext"
    }
   },
   "source": [
    "<a id=\"import\"></a>\n",
    "# <p style=\"background-color: #1E90FF; font-family:calibri; color:black; font-size:150%; text-align:center; border-radius:15px 50px;\">Step 1 | Import Libraries</p>\n",
    "\n",
    "⬆️ [Tabel of Contents](#contents_tabel)"
   ]
  },
  {
   "cell_type": "code",
   "execution_count": 1,
   "metadata": {},
   "outputs": [],
   "source": [
    "import string\n",
    "import os\n",
    "\n",
    "import pandas as pd\n",
    "import numpy as np\n",
    "import matplotlib.pyplot as plt\n",
    "\n",
    "\n",
    "import nltk\n",
    "from nltk.corpus import stopwords\n",
    "from nltk.stem.porter import PorterStemmer\n",
    "\n",
    "\n",
    "from sklearn.feature_extraction.text import CountVectorizer\n",
    "from sklearn.model_selection import train_test_split\n",
    "from sklearn.ensemble import RandomForestClassifier\n",
    "\n",
    "\n",
    "\n"
   ]
  },
  {
   "cell_type": "code",
   "execution_count": 2,
   "metadata": {},
   "outputs": [
    {
     "name": "stderr",
     "output_type": "stream",
     "text": [
      "[nltk_data] Downloading package stopwords to\n",
      "[nltk_data]     C:\\Users\\MoaviaHassan\\AppData\\Roaming\\nltk_data...\n",
      "[nltk_data]   Package stopwords is already up-to-date!\n"
     ]
    },
    {
     "data": {
      "text/plain": [
       "True"
      ]
     },
     "execution_count": 2,
     "metadata": {},
     "output_type": "execute_result"
    }
   ],
   "source": [
    "nltk.download('stopwords')"
   ]
  },
  {
   "cell_type": "code",
   "execution_count": 22,
   "metadata": {},
   "outputs": [],
   "source": [
    "pd.set_option('display.max_colwidth', None)"
   ]
  },
  {
   "cell_type": "markdown",
   "metadata": {},
   "source": [
    "<a id=\"import\"></a>\n",
    "# <p style=\"background-color: #1E90FF; font-family:calibri; color:Black; font-size:150%; text-align:center; border-radius:15px 50px;\">Step 2 | Read Dataset </p>\n",
    "\n",
    "⬆️ [Tabel of Contents](#contents_tabel)"
   ]
  },
  {
   "cell_type": "code",
   "execution_count": 4,
   "metadata": {},
   "outputs": [],
   "source": [
    "df = pd.read_csv(\"../spam_Emails_data.csv\")\n"
   ]
  },
  {
   "cell_type": "code",
   "execution_count": 5,
   "metadata": {},
   "outputs": [
    {
     "data": {
      "text/plain": [
       "(193852, 2)"
      ]
     },
     "execution_count": 5,
     "metadata": {},
     "output_type": "execute_result"
    }
   ],
   "source": [
    "df.shape"
   ]
  },
  {
   "cell_type": "code",
   "execution_count": 6,
   "metadata": {},
   "outputs": [
    {
     "data": {
      "text/html": [
       "<div>\n",
       "<style scoped>\n",
       "    .dataframe tbody tr th:only-of-type {\n",
       "        vertical-align: middle;\n",
       "    }\n",
       "\n",
       "    .dataframe tbody tr th {\n",
       "        vertical-align: top;\n",
       "    }\n",
       "\n",
       "    .dataframe thead th {\n",
       "        text-align: right;\n",
       "    }\n",
       "</style>\n",
       "<table border=\"1\" class=\"dataframe\">\n",
       "  <thead>\n",
       "    <tr style=\"text-align: right;\">\n",
       "      <th></th>\n",
       "      <th>label</th>\n",
       "      <th>text</th>\n",
       "    </tr>\n",
       "  </thead>\n",
       "  <tbody>\n",
       "    <tr>\n",
       "      <th>0</th>\n",
       "      <td>Spam</td>\n",
       "      <td>viiiiiiagraaaa\\nonly for the ones that want to make her scream .\\nprodigy scrawny crow define upgrade spongy balboa dither moiseyev schumann variegate ponce bernie cox angeles impassive circulate impend miscellany chalkboard whizzing pend armenian cutlet waring makeshift fletch dispel crest cadet dovetail rapprochement gerry bayreuth selectman wilmington tuttle alchemy itt bullyboy .\\ncaan ' t do . . .\\n</td>\n",
       "    </tr>\n",
       "    <tr>\n",
       "      <th>1</th>\n",
       "      <td>Ham</td>\n",
       "      <td>got ice thought look az original message ice operations mailto iceoperations intcx com sent friday october escapenumber escapenumber escapenumber escapenumber pm subject escapelong amended participant agreement dear participant receiving email identified company user administrator legal counsel signatory escapelong participant agreement serves notice intercontinentals intent amend agreement effective december escapenumber escapenumber relevant documentation attached includes contact information questions thank escapelong inc</td>\n",
       "    </tr>\n",
       "    <tr>\n",
       "      <th>2</th>\n",
       "      <td>Spam</td>\n",
       "      <td>yo ur wom an ne eds an escapenumber in ch ma n b e th at ma n f or h er le arn h ow here tu rn of f not ific ati ons here escapelong dy international exports ltd st regina escapenumber belize city belize escapelong</td>\n",
       "    </tr>\n",
       "    <tr>\n",
       "      <th>3</th>\n",
       "      <td>Spam</td>\n",
       "      <td>start increasing your odds of success &amp; live sexually healthy .\\neasy and imperceptible to take .\\ntake just a candy and become ready for 36 hours of love .\\n? this is most modern and safe way not to cover with shame\\n? only 15 minutes to wait\\n? fda approved\\nsoft tabs order will be packaged discreetly for your privacy and protection .\\nr % emove !\\n</td>\n",
       "    </tr>\n",
       "    <tr>\n",
       "      <th>4</th>\n",
       "      <td>Ham</td>\n",
       "      <td>author jra date escapenumber escapenumber escapenumber escapenumber escapenumber escapenumber escapenumber fri escapenumber jun escapenumber new revision escapenumber websvn http websvn samba org cgi bin viewcvs cgi view rev root samba rev escapenumber log first part of the patch to make apple's life easier doing this in two stages to make it very easy to review context switching must look like gain root sys setgroups ngroups groups become id uid gid re arrange order so these three calls are always seen together next will be to turn these into a function jeremy modified branches samba escapenumber escapenumber source smbd sec ctx c branches samba escapenumber escapenumber escapenumber source smbd sec ctx c changeset modified branches samba escapenumber escapenumber source smbd sec ctx c branches samba escapenumber escapenumber source smbd sec ctx c escapenumber escapenumber escapenumber escapenumber escapenumber escapenumber utc rev escapenumber branches samba escapenumber escapenumber source smbd sec ctx c escapenumber escapenumber escapenumber escapenumber escapenumber escapenumber utc rev escapenumber escapenumber escapenumber escapenumber escapenumber debug nt user token dbgc class escapenumber token debug unix user token dbgc class escapenumber uid gid ngroups groups start context switch gain root ifdef have setgroups sys setgroups ngroups groups endif become id uid gid end context switch ctx p ut ngroups ngroups escapenumber escapenumber escapenumber escapenumber ctx p token null become id uid gid ctx p ut uid uid ctx p ut gid gid escapenumber escapenumber escapenumber escapenumber sec ctx stack ndx gain root prev ctx p sec ctx stack sec ctx stack ndx start context switch gain root ifdef have setgroups sys setgroups prev ctx p ut ngroups prev ctx p ut groups endif become id prev ctx p ut uid prev ctx p ut gid end context switch update current user stuff modified branches samba escapenumber escapenumber escapenumber source smbd sec ctx c branches samba escapenumber escapenumber escapenumber source smbd sec ctx c escapenumber escapenumber escapenumber escapenumber escapenumber escapenumber utc rev escapenumber branches samba escapenumber escapenumber escapenumber source smbd sec ctx c escapenumber escapenumber escapenumber escapenumber escapenumber escapenumber utc rev escapenumber escapenumber escapenumber escapenumber escapenumber debug nt user token dbgc class escapenumber token debug unix user token dbgc class escapenumber uid gid ngroups groups start context switch gain root ifdef have setgroups sys setgroups ngroups groups endif become id uid gid end context switch ctx p ut ngroups ngroups escapenumber escapenumber escapenumber escapenumber ctx p token null become id uid gid ctx p ut uid uid ctx p ut gid gid escapenumber escapenumber escapenumber escapenumber sec ctx stack ndx gain root prev ctx p sec ctx stack sec ctx stack ndx start context switch gain root ifdef have setgroups sys setgroups prev ctx p ut ngroups prev ctx p ut groups endif become id prev ctx p ut uid prev ctx p ut gid end context switch update current user stuff</td>\n",
       "    </tr>\n",
       "  </tbody>\n",
       "</table>\n",
       "</div>"
      ],
      "text/plain": [
       "  label  \\\n",
       "0  Spam   \n",
       "1   Ham   \n",
       "2  Spam   \n",
       "3  Spam   \n",
       "4   Ham   \n",
       "\n",
       "                                                                                                                                                                                                                                                                                                                                                                                                                                                                                                                                                                                                                                                                                                                                                                                                                                                                                                                                                                                                                                                                                                                                                                                                                                                                                                                                                                                                                                                                                                                                                                                                                                                                                                                                                                                                                                                                                                                                                                                                                                                                                                                                                                                                                                                                                                                                                                                                                                                                                                                                                                                                                                                                                                                                                                                                                                                                                                                                                                                                                                                                                                                                                                                                                        text  \n",
       "0                                                                                                                                                                                                                                                                                                                                                                                                                                                                                                                                                                                                                                                                                                                                                                                                                                                                                                                                                                                                                                                                                                                                                                                                                                                                                                                                                                                                                                                                                                                                                                                                                                                                                                                                                                                                                                                                                                                                                                                                                                                                                                                                                                                                                                                                                                                                                                                                                                                                                                                                                                                                                                                                                                                                                                                                    viiiiiiagraaaa\\nonly for the ones that want to make her scream .\\nprodigy scrawny crow define upgrade spongy balboa dither moiseyev schumann variegate ponce bernie cox angeles impassive circulate impend miscellany chalkboard whizzing pend armenian cutlet waring makeshift fletch dispel crest cadet dovetail rapprochement gerry bayreuth selectman wilmington tuttle alchemy itt bullyboy .\\ncaan ' t do . . .\\n  \n",
       "1                                                                                                                                                                                                                                                                                                                                                                                                                                                                                                                                                                                                                                                                                                                                                                                                                                                                                                                                                                                                                                                                                                                                                                                                                                                                                                                                                                                                                                                                                                                                                                                                                                                                                                                                                                                                                                                                                                                                                                                                                                                                                                                                                                                                                                                                                                                                                                                                                                                                                                                                                                                                                                                                         got ice thought look az original message ice operations mailto iceoperations intcx com sent friday october escapenumber escapenumber escapenumber escapenumber pm subject escapelong amended participant agreement dear participant receiving email identified company user administrator legal counsel signatory escapelong participant agreement serves notice intercontinentals intent amend agreement effective december escapenumber escapenumber relevant documentation attached includes contact information questions thank escapelong inc  \n",
       "2                                                                                                                                                                                                                                                                                                                                                                                                                                                                                                                                                                                                                                                                                                                                                                                                                                                                                                                                                                                                                                                                                                                                                                                                                                                                                                                                                                                                                                                                                                                                                                                                                                                                                                                                                                                                                                                                                                                                                                                                                                                                                                                                                                                                                                                                                                                                                                                                                                                                                                                                                                                                                                                                                                                                                                                                                                                                                                                                                                                                    yo ur wom an ne eds an escapenumber in ch ma n b e th at ma n f or h er le arn h ow here tu rn of f not ific ati ons here escapelong dy international exports ltd st regina escapenumber belize city belize escapelong   \n",
       "3                                                                                                                                                                                                                                                                                                                                                                                                                                                                                                                                                                                                                                                                                                                                                                                                                                                                                                                                                                                                                                                                                                                                                                                                                                                                                                                                                                                                                                                                                                                                                                                                                                                                                                                                                                                                                                                                                                                                                                                                                                                                                                                                                                                                                                                                                                                                                                                                                                                                                                                                                                                                                                                                                                                                                                                                                                                          start increasing your odds of success & live sexually healthy .\\neasy and imperceptible to take .\\ntake just a candy and become ready for 36 hours of love .\\n? this is most modern and safe way not to cover with shame\\n? only 15 minutes to wait\\n? fda approved\\nsoft tabs order will be packaged discreetly for your privacy and protection .\\nr % emove !\\n  \n",
       "4  author jra date escapenumber escapenumber escapenumber escapenumber escapenumber escapenumber escapenumber fri escapenumber jun escapenumber new revision escapenumber websvn http websvn samba org cgi bin viewcvs cgi view rev root samba rev escapenumber log first part of the patch to make apple's life easier doing this in two stages to make it very easy to review context switching must look like gain root sys setgroups ngroups groups become id uid gid re arrange order so these three calls are always seen together next will be to turn these into a function jeremy modified branches samba escapenumber escapenumber source smbd sec ctx c branches samba escapenumber escapenumber escapenumber source smbd sec ctx c changeset modified branches samba escapenumber escapenumber source smbd sec ctx c branches samba escapenumber escapenumber source smbd sec ctx c escapenumber escapenumber escapenumber escapenumber escapenumber escapenumber utc rev escapenumber branches samba escapenumber escapenumber source smbd sec ctx c escapenumber escapenumber escapenumber escapenumber escapenumber escapenumber utc rev escapenumber escapenumber escapenumber escapenumber escapenumber debug nt user token dbgc class escapenumber token debug unix user token dbgc class escapenumber uid gid ngroups groups start context switch gain root ifdef have setgroups sys setgroups ngroups groups endif become id uid gid end context switch ctx p ut ngroups ngroups escapenumber escapenumber escapenumber escapenumber ctx p token null become id uid gid ctx p ut uid uid ctx p ut gid gid escapenumber escapenumber escapenumber escapenumber sec ctx stack ndx gain root prev ctx p sec ctx stack sec ctx stack ndx start context switch gain root ifdef have setgroups sys setgroups prev ctx p ut ngroups prev ctx p ut groups endif become id prev ctx p ut uid prev ctx p ut gid end context switch update current user stuff modified branches samba escapenumber escapenumber escapenumber source smbd sec ctx c branches samba escapenumber escapenumber escapenumber source smbd sec ctx c escapenumber escapenumber escapenumber escapenumber escapenumber escapenumber utc rev escapenumber branches samba escapenumber escapenumber escapenumber source smbd sec ctx c escapenumber escapenumber escapenumber escapenumber escapenumber escapenumber utc rev escapenumber escapenumber escapenumber escapenumber escapenumber debug nt user token dbgc class escapenumber token debug unix user token dbgc class escapenumber uid gid ngroups groups start context switch gain root ifdef have setgroups sys setgroups ngroups groups endif become id uid gid end context switch ctx p ut ngroups ngroups escapenumber escapenumber escapenumber escapenumber ctx p token null become id uid gid ctx p ut uid uid ctx p ut gid gid escapenumber escapenumber escapenumber escapenumber sec ctx stack ndx gain root prev ctx p sec ctx stack sec ctx stack ndx start context switch gain root ifdef have setgroups sys setgroups prev ctx p ut ngroups prev ctx p ut groups endif become id prev ctx p ut uid prev ctx p ut gid end context switch update current user stuff   "
      ]
     },
     "execution_count": 6,
     "metadata": {},
     "output_type": "execute_result"
    }
   ],
   "source": [
    "df.head(5)"
   ]
  },
  {
   "cell_type": "code",
   "execution_count": 7,
   "metadata": {},
   "outputs": [
    {
     "data": {
      "text/plain": [
       "2"
      ]
     },
     "execution_count": 7,
     "metadata": {},
     "output_type": "execute_result"
    }
   ],
   "source": [
    "df['label'].nunique()"
   ]
  },
  {
   "cell_type": "code",
   "execution_count": 8,
   "metadata": {},
   "outputs": [],
   "source": [
    "encoding_group = {\n",
    "    \"Spam\" : 1,\n",
    "    \"Ham\" : 0\n",
    "}\n",
    "df['label'] = df['label'].map(encoding_group)"
   ]
  },
  {
   "cell_type": "code",
   "execution_count": 9,
   "metadata": {},
   "outputs": [
    {
     "data": {
      "text/html": [
       "<div>\n",
       "<style scoped>\n",
       "    .dataframe tbody tr th:only-of-type {\n",
       "        vertical-align: middle;\n",
       "    }\n",
       "\n",
       "    .dataframe tbody tr th {\n",
       "        vertical-align: top;\n",
       "    }\n",
       "\n",
       "    .dataframe thead th {\n",
       "        text-align: right;\n",
       "    }\n",
       "</style>\n",
       "<table border=\"1\" class=\"dataframe\">\n",
       "  <thead>\n",
       "    <tr style=\"text-align: right;\">\n",
       "      <th></th>\n",
       "      <th>label</th>\n",
       "      <th>text</th>\n",
       "    </tr>\n",
       "  </thead>\n",
       "  <tbody>\n",
       "    <tr>\n",
       "      <th>188442</th>\n",
       "      <td>0</td>\n",
       "      <td>everyone updates testing last week communication information going forward thanks involved last weeks testing much accomplished encounter legal mandated test freeze friday given legal communication came halt data entry code changes friday evening eventually lifted unfinished testing continue weve completed integration testing escapenumber transaction type scenarios eol entry sitara tds tagg includes sample testing scripts end end testing sap eol sent escapenumber gas escapenumber financial transactions downstream systems escapenumber integration issues identified resolved majority data setup issues code changes identified incorrect hardware used reports running start scripting issues resolved replication issues resolved whats remaining test status escapenumber edi testing tammy jaquet robert virnau expected complete edi test end day today escapenumber escapenumber escapenumber financial settlements eol deals mechelle stevens completing verification eol deals unify testing expected complete edi test end day today escapenumber escapenumber escapenumber sap testing sap still requirements analysis regards gl account setup profit centers meeting scheduled wednesday afternoon ubs sap netco leads sap testing conducted unify within sap decisions determined issues aware please advise outstanding known issues escapenumber unify custom reports sqr working part integration test testing kelley huntley friday resulted failure infrastructure expected resolve monday noon escapenumber data setup completed monday morning complete issues aware please advise going forward escapenumber netco eol new olt team testing week deals netco environments may see downstream systems escapenumber analysis estate data still resides netco needs go forward namely curve data enpower escapenumber perform regression testing determine cross dependency hardware testing scenarios include application messaging use tibco port multi cast addresses b estate execution netco hardware inactive c netco execution estate hardware inactive notice fyi netco ubs employees lan nt user ids changed new file server anticipated friday escapenumber escapenumber impacts mainly drive w drive split estate netco authorized legal data copied new file servers example netco employees need specific files drive missing would remained estate files progress may missing batch file copy occurring week updates follow later week regan smith energy operations systems enron net works escapenumber escapenumber escapenumber wk escapenumber escapenumber escapenumber cell original message smith regan sent wednesday january escapenumber escapenumber escapenumber escapenumber pm allen thresa anderson bridgette anderson diane aucoin evelyn baker natalie baxter bryce bentley corry bowen bob brackett debbie r campos anthony campos sylvia dahlke andrea dawes cheryl denny jennifer denton rhonda l dupuy mark elledge susan engel tom evans casey garcia clarissa gillis brian hare bill hayden frank heal kevin hunter larry joe huntley kelley jaquet tammy kenne dawn c lozano melba mcginnis stephanie mclaughlin jr errol meredith kevin murphy melissa price wade r reeves kathy robinson rhonda rodriguez bernice schield elaine schrab mark l seib dianne severson russ spears christopher stevens mechelle sullivan patti sweitzer tara theriot kim vander velde nikole wallumrod ellen winfree oneal wynne rita bharathi jaikishore brewer charles chitradurga sundar cinelli steve elwood richard fortney bill franks shawn greig iain henry jane hilburn hunter wade johnson jeff lim francis martinez bob mckeel richard nolte ron pena matt poston david powell john ramesh ganapathy rao ramesh saleem aftab sanvido terry schmidt mark schomer chris smith regan stock steve clark cynthia boudreaux lori subject status report integration testing wednesday jan escapenumberrd thursdays continuation status report integration testing wednesday jan escapenumberrd escapenumber gas power types transactions test overall infrastructure major application issues unlike prior testing weve included many gas transaction types testing non essential netco data removed aka baseline netco go live todays test numerous data setup related issues resulted downtime ie eol dynegy information tgp address information bad credit counterparty contracts database issues data sync replication mainly attributed massive cleanup removal data needed remaining issues open addressed wednesday night given deferred escapenumber escapenumberpm escapenumber escapenumberpm start time data setup sync issues unable complete downstream processes mainly settlements confirmations sap continuation testing thursday requesting testers tasks remaining complete script execution thursday morning shift afternoon shifts given ubs offsite meetings try balance testing activities given morning afternoon bridgeline active escapenumber escapenumber communication status recap testing left netco eol entry netco deal types netco external gas power good bad credit financial financial testing completed power wednesday completed tasks deal entry settlement statement group setup notification enpower deal load awaiting settlements drafting issue thursday remaining status escapenumber dcaf testing ready escapenumber kelley huntley draft invoices draft issue resolved gas wednesday completed tasks deal entry tds tagg erms sitara port calc thursday chris spears transport tgp payment methods setup clarissa hanks transport usage ticket generic contract setup deal escapenumber wade price draft invoices confirmation activity upstream pm dcaf testing confirmation activity upstream need conduct edi test tammy jaquet robert virnau eol deals dawn kenne confirmed escapenumber eol deals setup escapenumber gas escapenumber power thursdays plans confirm flow deals sitara tagg enpower followed eventual confirmations settlement unify sap ready validation sitara tagg enpower thanks continued involvement regan smith energy operations systems enron net works escapenumber escapenumber escapenumber wk escapenumber escapenumber escapenumber cell</td>\n",
       "    </tr>\n",
       "    <tr>\n",
       "      <th>52940</th>\n",
       "      <td>1</td>\n",
       "      <td>bescapenumberi aescapenumber descapenumber bescapenumber ce aaa aescapenumber aescapenumberu aescapenumbera aescapenumberi bescapenumberi af bescapenumber h l</td>\n",
       "    </tr>\n",
       "    <tr>\n",
       "      <th>172354</th>\n",
       "      <td>1</td>\n",
       "      <td>choose wide selection remedy reliable e chemist please review greatest analgesic blues stress sleeping aids obesity cholesterol take quick look great medicals http snescapenumber zeroworrydays com wescapenumberd rely quick convenient handling choose quick dispensing gain best value super benefits cyber store quick reliable professional case profile review simply best echemist select top selling remedy loler prices quick handling distribution access really simple reliable clyde c ny help one rise help ah ori r one people would us mean go every saying something faults little innocentch ne wasbrightness grand eur seen spanishcathedral portraits ild weeping pray escapenumber walls f old citizen escapenumber thewood</td>\n",
       "    </tr>\n",
       "    <tr>\n",
       "      <th>76878</th>\n",
       "      <td>0</td>\n",
       "      <td>gerald when you get a second see if the following accurately captures which confirmation template should be used with which deals confirmation usage form deal type gtc firm pooled gas escapenumber escapenumber months pooled gas gtc firm point gas escapenumber escapenumber months wellhead gas committed reserves producer trades escapenumber months gisb day month trades not with producers with gisb gtc spot day month trades not with producers without gisb thanks judy</td>\n",
       "    </tr>\n",
       "    <tr>\n",
       "      <th>101949</th>\n",
       "      <td>0</td>\n",
       "      <td>rick ,\\ni read your memo regarding global risk management initiative . i am sending\\nyou the\\ninformation regarding a related initiative on which i have been working last\\nyear and which\\nis moving now into the implementation stage . it ' s enterprise - wide risk\\nmanagement\\nand it ' s really an effort to measure business risks consistently across the\\ncompany .\\ni hope my group can be helpful in designing the general approach to this\\nproblem .\\nplease , let me know what your thoughts are .\\nvince</td>\n",
       "    </tr>\n",
       "  </tbody>\n",
       "</table>\n",
       "</div>"
      ],
      "text/plain": [
       "        label  \\\n",
       "188442      0   \n",
       "52940       1   \n",
       "172354      1   \n",
       "76878       0   \n",
       "101949      0   \n",
       "\n",
       "                                                                                                                                                                                                                                                                                                                                                                                                                                                                                                                                                                                                                                                                                                                                                                                                                                                                                                                                                                                                                                                                                                                                                                                                                                                                                                                                                                                                                                                                                                                                                                                                                                                                                                                                                                                                                                                                                                                                                                                                                                                                                                                                                                                                                                                                                                                                                                                                                                                                                                                                                                                                                                                                                                                                                                                                                                                                                                                                                                                                                                                                                                                                                                                                                                                                                                                                                                                                                                                                                                                                                                                                                                                                                                                                                                                                                                                                                                                                                                                                                                                                                                                                                                                                                                                                                                                                                                                                                                                                                                                                                                                                                                                                                                                                                                                                                                                                                                                                                                                                                                                                                                                                                                                                                                                                                                                                                                                                                                                                                                                                                                                                                                                                                                                                                                                                                                                                                                                                                                                                                                                                                                                                                                                                                                                                                               text  \n",
       "188442  everyone updates testing last week communication information going forward thanks involved last weeks testing much accomplished encounter legal mandated test freeze friday given legal communication came halt data entry code changes friday evening eventually lifted unfinished testing continue weve completed integration testing escapenumber transaction type scenarios eol entry sitara tds tagg includes sample testing scripts end end testing sap eol sent escapenumber gas escapenumber financial transactions downstream systems escapenumber integration issues identified resolved majority data setup issues code changes identified incorrect hardware used reports running start scripting issues resolved replication issues resolved whats remaining test status escapenumber edi testing tammy jaquet robert virnau expected complete edi test end day today escapenumber escapenumber escapenumber financial settlements eol deals mechelle stevens completing verification eol deals unify testing expected complete edi test end day today escapenumber escapenumber escapenumber sap testing sap still requirements analysis regards gl account setup profit centers meeting scheduled wednesday afternoon ubs sap netco leads sap testing conducted unify within sap decisions determined issues aware please advise outstanding known issues escapenumber unify custom reports sqr working part integration test testing kelley huntley friday resulted failure infrastructure expected resolve monday noon escapenumber data setup completed monday morning complete issues aware please advise going forward escapenumber netco eol new olt team testing week deals netco environments may see downstream systems escapenumber analysis estate data still resides netco needs go forward namely curve data enpower escapenumber perform regression testing determine cross dependency hardware testing scenarios include application messaging use tibco port multi cast addresses b estate execution netco hardware inactive c netco execution estate hardware inactive notice fyi netco ubs employees lan nt user ids changed new file server anticipated friday escapenumber escapenumber impacts mainly drive w drive split estate netco authorized legal data copied new file servers example netco employees need specific files drive missing would remained estate files progress may missing batch file copy occurring week updates follow later week regan smith energy operations systems enron net works escapenumber escapenumber escapenumber wk escapenumber escapenumber escapenumber cell original message smith regan sent wednesday january escapenumber escapenumber escapenumber escapenumber pm allen thresa anderson bridgette anderson diane aucoin evelyn baker natalie baxter bryce bentley corry bowen bob brackett debbie r campos anthony campos sylvia dahlke andrea dawes cheryl denny jennifer denton rhonda l dupuy mark elledge susan engel tom evans casey garcia clarissa gillis brian hare bill hayden frank heal kevin hunter larry joe huntley kelley jaquet tammy kenne dawn c lozano melba mcginnis stephanie mclaughlin jr errol meredith kevin murphy melissa price wade r reeves kathy robinson rhonda rodriguez bernice schield elaine schrab mark l seib dianne severson russ spears christopher stevens mechelle sullivan patti sweitzer tara theriot kim vander velde nikole wallumrod ellen winfree oneal wynne rita bharathi jaikishore brewer charles chitradurga sundar cinelli steve elwood richard fortney bill franks shawn greig iain henry jane hilburn hunter wade johnson jeff lim francis martinez bob mckeel richard nolte ron pena matt poston david powell john ramesh ganapathy rao ramesh saleem aftab sanvido terry schmidt mark schomer chris smith regan stock steve clark cynthia boudreaux lori subject status report integration testing wednesday jan escapenumberrd thursdays continuation status report integration testing wednesday jan escapenumberrd escapenumber gas power types transactions test overall infrastructure major application issues unlike prior testing weve included many gas transaction types testing non essential netco data removed aka baseline netco go live todays test numerous data setup related issues resulted downtime ie eol dynegy information tgp address information bad credit counterparty contracts database issues data sync replication mainly attributed massive cleanup removal data needed remaining issues open addressed wednesday night given deferred escapenumber escapenumberpm escapenumber escapenumberpm start time data setup sync issues unable complete downstream processes mainly settlements confirmations sap continuation testing thursday requesting testers tasks remaining complete script execution thursday morning shift afternoon shifts given ubs offsite meetings try balance testing activities given morning afternoon bridgeline active escapenumber escapenumber communication status recap testing left netco eol entry netco deal types netco external gas power good bad credit financial financial testing completed power wednesday completed tasks deal entry settlement statement group setup notification enpower deal load awaiting settlements drafting issue thursday remaining status escapenumber dcaf testing ready escapenumber kelley huntley draft invoices draft issue resolved gas wednesday completed tasks deal entry tds tagg erms sitara port calc thursday chris spears transport tgp payment methods setup clarissa hanks transport usage ticket generic contract setup deal escapenumber wade price draft invoices confirmation activity upstream pm dcaf testing confirmation activity upstream need conduct edi test tammy jaquet robert virnau eol deals dawn kenne confirmed escapenumber eol deals setup escapenumber gas escapenumber power thursdays plans confirm flow deals sitara tagg enpower followed eventual confirmations settlement unify sap ready validation sitara tagg enpower thanks continued involvement regan smith energy operations systems enron net works escapenumber escapenumber escapenumber wk escapenumber escapenumber escapenumber cell  \n",
       "52940                                                                                                                                                                                                                                                                                                                                                                                                                                                                                                                                                                                                                                                                                                                                                                                                                                                                                                                                                                                                                                                                                                                                                                                                                                                                                                                                                                                                                                                                                                                                                                                                                                                                                                                                                                                                                                                                                                                                                                                                                                                                                                                                                                                                                                                                                                                                                                                                                                                                                                                                                                                                                                                                                                                                                                                                                                                                                                                                                                                                                                                                                                                                                                                                                                                                                                                                                                                                                                                                                                                                                                                                                                                                                                                                                                                                                                                                                                                                                                                                                                                                                                                                                                                                                                                                                                                                                                                                                                                                                                                                                                                                                                                                                                                                                                                                                                                                                                                                                                                                                                                                                                                                                                                                                                                                                                                                                                                                                                                                                                                                                                                                                                                                                                                                                                                                                                                                                                                                                                                                                                                                                                                                bescapenumberi aescapenumber descapenumber bescapenumber ce aaa aescapenumber aescapenumberu aescapenumbera aescapenumberi bescapenumberi af bescapenumber h l  \n",
       "172354                                                                                                                                                                                                                                                                                                                                                                                                                                                                                                                                                                                                                                                                                                                                                                                                                                                                                                                                                                                                                                                                                                                                                                                                                                                                                                                                                                                                                                                                                                                                                                                                                                                                                                                                                                                                                                                                                                                                                                                                                                                                                                                                                                                                                                                                                                                                                                                                                                                                                                                                                                                                                                                                                                                                                                                                                                                                                                                                                                                                                                                                                                                                                                                                                                                                                                                                                                                                                                                                                                                                                                                                                                                                                                                                                                                                                                                                                                                                                                                                                                                                                                                                                                                                                                                                                                                                                                                                                                                                                                                                                                                                                                                                                                                                                                                                                                                                                                                                                                                                                                                                                                                                                                                                                                                                                                                                                                                                                                                                                                                                             choose wide selection remedy reliable e chemist please review greatest analgesic blues stress sleeping aids obesity cholesterol take quick look great medicals http snescapenumber zeroworrydays com wescapenumberd rely quick convenient handling choose quick dispensing gain best value super benefits cyber store quick reliable professional case profile review simply best echemist select top selling remedy loler prices quick handling distribution access really simple reliable clyde c ny help one rise help ah ori r one people would us mean go every saying something faults little innocentch ne wasbrightness grand eur seen spanishcathedral portraits ild weeping pray escapenumber walls f old citizen escapenumber thewood  \n",
       "76878                                                                                                                                                                                                                                                                                                                                                                                                                                                                                                                                                                                                                                                                                                                                                                                                                                                                                                                                                                                                                                                                                                                                                                                                                                                                                                                                                                                                                                                                                                                                                                                                                                                                                                                                                                                                                                                                                                                                                                                                                                                                                                                                                                                                                                                                                                                                                                                                                                                                                                                                                                                                                                                                                                                                                                                                                                                                                                                                                                                                                                                                                                                                                                                                                                                                                                                                                                                                                                                                                                                                                                                                                                                                                                                                                                                                                                                                                                                                                                                                                                                                                                                                                                                                                                                                                                                                                                                                                                                                                                                                                                                                                                                                                                                                                                                                                                                                                                                                                                                                                                                                                                                                                                                                                                                                                                                                                                                                                                                                                                                                                                                                                                                                                                                                                                                                          gerald when you get a second see if the following accurately captures which confirmation template should be used with which deals confirmation usage form deal type gtc firm pooled gas escapenumber escapenumber months pooled gas gtc firm point gas escapenumber escapenumber months wellhead gas committed reserves producer trades escapenumber months gisb day month trades not with producers with gisb gtc spot day month trades not with producers without gisb thanks judy  \n",
       "101949                                                                                                                                                                                                                                                                                                                                                                                                                                                                                                                                                                                                                                                                                                                                                                                                                                                                                                                                                                                                                                                                                                                                                                                                                                                                                                                                                                                                                                                                                                                                                                                                                                                                                                                                                                                                                                                                                                                                                                                                                                                                                                                                                                                                                                                                                                                                                                                                                                                                                                                                                                                                                                                                                                                                                                                                                                                                                                                                                                                                                                                                                                                                                                                                                                                                                                                                                                                                                                                                                                                                                                                                                                                                                                                                                                                                                                                                                                                                                                                                                                                                                                                                                                                                                                                                                                                                                                                                                                                                                                                                                                                                                                                                                                                                                                                                                                                                                                                                                                                                                                                                                                                                                                                                                                                                                                                                                                                                                                                                                                                                                                                                                                                                                                                                                                     rick ,\\ni read your memo regarding global risk management initiative . i am sending\\nyou the\\ninformation regarding a related initiative on which i have been working last\\nyear and which\\nis moving now into the implementation stage . it ' s enterprise - wide risk\\nmanagement\\nand it ' s really an effort to measure business risks consistently across the\\ncompany .\\ni hope my group can be helpful in designing the general approach to this\\nproblem .\\nplease , let me know what your thoughts are .\\nvince  "
      ]
     },
     "execution_count": 9,
     "metadata": {},
     "output_type": "execute_result"
    }
   ],
   "source": [
    "df.sample(5)"
   ]
  },
  {
   "cell_type": "markdown",
   "metadata": {},
   "source": [
    "## Video Steps "
   ]
  },
  {
   "cell_type": "markdown",
   "metadata": {},
   "source": [
    "Removing new line characters and others Like \\r , \\n"
   ]
  },
  {
   "cell_type": "code",
   "execution_count": 10,
   "metadata": {},
   "outputs": [
    {
     "name": "stdout",
     "output_type": "stream",
     "text": [
      "Missing values in 'text': 2\n"
     ]
    }
   ],
   "source": [
    "print(\"Missing values in 'text':\", df['text'].isna().sum())"
   ]
  },
  {
   "cell_type": "code",
   "execution_count": 11,
   "metadata": {},
   "outputs": [],
   "source": [
    "df = df.dropna(subset=['text'])"
   ]
  },
  {
   "cell_type": "code",
   "execution_count": 12,
   "metadata": {},
   "outputs": [],
   "source": [
    "df['text'] = df['text'].apply(lambda x: x.replace('\\r\\n', ' '))"
   ]
  },
  {
   "cell_type": "code",
   "execution_count": 13,
   "metadata": {},
   "outputs": [
    {
     "name": "stdout",
     "output_type": "stream",
     "text": [
      "<class 'pandas.core.frame.DataFrame'>\n",
      "Index: 193850 entries, 0 to 193851\n",
      "Data columns (total 2 columns):\n",
      " #   Column  Non-Null Count   Dtype \n",
      "---  ------  --------------   ----- \n",
      " 0   label   193850 non-null  int64 \n",
      " 1   text    193850 non-null  object\n",
      "dtypes: int64(1), object(1)\n",
      "memory usage: 4.4+ MB\n"
     ]
    }
   ],
   "source": [
    "df.info()"
   ]
  },
  {
   "cell_type": "code",
   "execution_count": 14,
   "metadata": {},
   "outputs": [
    {
     "data": {
      "text/plain": [
       "\"exclusive\\noffer from 24 x 7 emessaging\\nsearch for a pre - owned vehicle\\nbuy a used car online\\nyou ' ve\\nreceived this message because you have signed up to receive\\noffers from one of our carefully selected marketing\\npartners .\\n24 x 7 emessaging\\nis the internet ' s best source of exciting new offers and\\ndiscounts . if you no longer wish to receive these offers ,\\nplease follow the unsubscribe instructions at the bottom .\\nto\\nunsubscribe from our mailing list , online unsubscribe click\\nhere or\\nby email click\\nhere\\n\""
      ]
     },
     "execution_count": 14,
     "metadata": {},
     "output_type": "execute_result"
    }
   ],
   "source": [
    "df.text.iloc[188]"
   ]
  },
  {
   "cell_type": "code",
   "execution_count": 15,
   "metadata": {},
   "outputs": [],
   "source": [
    "# stemmer.stem('running')\n",
    "# 'run'\n",
    "stemmer = PorterStemmer()\n",
    "corpus = []\n",
    "\n",
    "stopwords_set = set(stopwords.words('english'))\n",
    "\n",
    "for i in range(len(df)):\n",
    "    text = df['text'].iloc[i].lower()\n",
    "    text = text.translate(str.maketrans('', '', string.punctuation)).split()\n",
    "    text = [stemmer.stem(word) for word in text if word not in stopwords_set]\n",
    "    text = ' '.join(text)\n",
    "    corpus.append(text)"
   ]
  },
  {
   "cell_type": "code",
   "execution_count": null,
   "metadata": {},
   "outputs": [],
   "source": []
  },
  {
   "cell_type": "code",
   "execution_count": 16,
   "metadata": {},
   "outputs": [
    {
     "data": {
      "text/plain": [
       "\"if you try rcmd install mypackage you will get the error messages on the terminal i've never not seen them in the mypackage rcheck escapenumberinstall out file but then i used the correct name on thu escapenumber jun escapenumber cinzia viroli wrote i tried to check or build a package under windows xp but i got the error the package can not be installed without any details in the install out file i work with r escapenumber escapenumber escapenumber miktex escapenumber escapenumber escapenumber and i have installed the unix tools zip perl and microsoft html workshop the path environment is ok have someone else encountered the same problem thank you cinzia cinzia viroli dipartimento di scienze statistiche paolo fortunati via delle belle arti escapenumber escapenumber bologna italy ph escapenumber escapenumber escapenumber fax escapenumber escapenumber escapenumber home wwwescapenumber stat unibo it viroli alternative html version deleted r help stat math ethz ch mailing list https stat ethz ch mailman listinfo r help please do read the posting guide http www r project org posting guide html and provide commented minimal self contained reproducible code brian d ripley ripley stats ox ac uk professor of applied statistics http www stats ox ac uk ripley university of oxford tel escapenumber escapenumber escapenumber self escapenumber south parks road escapenumber escapenumber escapenumber pa oxford oxescapenumber escapenumbertg uk fax escapenumber escapenumber escapenumber r help stat math ethz ch mailing list https stat ethz ch mailman listinfo r help please do read the posting guide http www r project org posting guide html and provide commented minimal self contained reproducible code \""
      ]
     },
     "execution_count": 16,
     "metadata": {},
     "output_type": "execute_result"
    }
   ],
   "source": [
    "df['text'].iloc[1000]"
   ]
  },
  {
   "cell_type": "code",
   "execution_count": 17,
   "metadata": {},
   "outputs": [
    {
     "data": {
      "text/plain": [
       "'tri rcmd instal mypackag get error messag termin ive never seen mypackag rcheck escapenumberinstal file use correct name thu escapenumb jun escapenumb cinzia viroli wrote tri check build packag window xp got error packag instal without detail instal file work r escapenumb escapenumb escapenumb miktex escapenumb escapenumb escapenumb instal unix tool zip perl microsoft html workshop path environ ok someon els encount problem thank cinzia cinzia viroli dipartimento di scienz statistich paolo fortunati via dell bell arti escapenumb escapenumb bologna itali ph escapenumb escapenumb escapenumb fax escapenumb escapenumb escapenumb home wwwescapenumb stat unibo viroli altern html version delet r help stat math ethz ch mail list http stat ethz ch mailman listinfo r help pleas read post guid http www r project org post guid html provid comment minim self contain reproduc code brian ripley ripley stat ox ac uk professor appli statist http www stat ox ac uk ripley univers oxford tel escapenumb escapenumb escapenumb self escapenumb south park road escapenumb escapenumb escapenumb pa oxford oxescapenumb escapenumbertg uk fax escapenumb escapenumb escapenumb r help stat math ethz ch mail list http stat ethz ch mailman listinfo r help pleas read post guid http www r project org post guid html provid comment minim self contain reproduc code'"
      ]
     },
     "execution_count": 17,
     "metadata": {},
     "output_type": "execute_result"
    }
   ],
   "source": [
    "corpus[1000]"
   ]
  },
  {
   "cell_type": "code",
   "execution_count": 18,
   "metadata": {},
   "outputs": [],
   "source": [
    "vectorizer = CountVectorizer()\n",
    "\n",
    "# Fit and transform the corpus into a sparse matrix\n",
    "X = vectorizer.fit_transform(corpus)  # Keep it as a sparse matrix\n",
    "y = df['label']\n"
   ]
  },
  {
   "cell_type": "code",
   "execution_count": 19,
   "metadata": {},
   "outputs": [],
   "source": [
    "X_train, X_test, y_train, y_test = train_test_split(X, y, test_size=0.2, random_state=42)"
   ]
  },
  {
   "cell_type": "code",
   "execution_count": 20,
   "metadata": {},
   "outputs": [
    {
     "data": {
      "text/html": [
       "<style>#sk-container-id-1 {\n",
       "  /* Definition of color scheme common for light and dark mode */\n",
       "  --sklearn-color-text: #000;\n",
       "  --sklearn-color-text-muted: #666;\n",
       "  --sklearn-color-line: gray;\n",
       "  /* Definition of color scheme for unfitted estimators */\n",
       "  --sklearn-color-unfitted-level-0: #fff5e6;\n",
       "  --sklearn-color-unfitted-level-1: #f6e4d2;\n",
       "  --sklearn-color-unfitted-level-2: #ffe0b3;\n",
       "  --sklearn-color-unfitted-level-3: chocolate;\n",
       "  /* Definition of color scheme for fitted estimators */\n",
       "  --sklearn-color-fitted-level-0: #f0f8ff;\n",
       "  --sklearn-color-fitted-level-1: #d4ebff;\n",
       "  --sklearn-color-fitted-level-2: #b3dbfd;\n",
       "  --sklearn-color-fitted-level-3: cornflowerblue;\n",
       "\n",
       "  /* Specific color for light theme */\n",
       "  --sklearn-color-text-on-default-background: var(--sg-text-color, var(--theme-code-foreground, var(--jp-content-font-color1, black)));\n",
       "  --sklearn-color-background: var(--sg-background-color, var(--theme-background, var(--jp-layout-color0, white)));\n",
       "  --sklearn-color-border-box: var(--sg-text-color, var(--theme-code-foreground, var(--jp-content-font-color1, black)));\n",
       "  --sklearn-color-icon: #696969;\n",
       "\n",
       "  @media (prefers-color-scheme: dark) {\n",
       "    /* Redefinition of color scheme for dark theme */\n",
       "    --sklearn-color-text-on-default-background: var(--sg-text-color, var(--theme-code-foreground, var(--jp-content-font-color1, white)));\n",
       "    --sklearn-color-background: var(--sg-background-color, var(--theme-background, var(--jp-layout-color0, #111)));\n",
       "    --sklearn-color-border-box: var(--sg-text-color, var(--theme-code-foreground, var(--jp-content-font-color1, white)));\n",
       "    --sklearn-color-icon: #878787;\n",
       "  }\n",
       "}\n",
       "\n",
       "#sk-container-id-1 {\n",
       "  color: var(--sklearn-color-text);\n",
       "}\n",
       "\n",
       "#sk-container-id-1 pre {\n",
       "  padding: 0;\n",
       "}\n",
       "\n",
       "#sk-container-id-1 input.sk-hidden--visually {\n",
       "  border: 0;\n",
       "  clip: rect(1px 1px 1px 1px);\n",
       "  clip: rect(1px, 1px, 1px, 1px);\n",
       "  height: 1px;\n",
       "  margin: -1px;\n",
       "  overflow: hidden;\n",
       "  padding: 0;\n",
       "  position: absolute;\n",
       "  width: 1px;\n",
       "}\n",
       "\n",
       "#sk-container-id-1 div.sk-dashed-wrapped {\n",
       "  border: 1px dashed var(--sklearn-color-line);\n",
       "  margin: 0 0.4em 0.5em 0.4em;\n",
       "  box-sizing: border-box;\n",
       "  padding-bottom: 0.4em;\n",
       "  background-color: var(--sklearn-color-background);\n",
       "}\n",
       "\n",
       "#sk-container-id-1 div.sk-container {\n",
       "  /* jupyter's `normalize.less` sets `[hidden] { display: none; }`\n",
       "     but bootstrap.min.css set `[hidden] { display: none !important; }`\n",
       "     so we also need the `!important` here to be able to override the\n",
       "     default hidden behavior on the sphinx rendered scikit-learn.org.\n",
       "     See: https://github.com/scikit-learn/scikit-learn/issues/21755 */\n",
       "  display: inline-block !important;\n",
       "  position: relative;\n",
       "}\n",
       "\n",
       "#sk-container-id-1 div.sk-text-repr-fallback {\n",
       "  display: none;\n",
       "}\n",
       "\n",
       "div.sk-parallel-item,\n",
       "div.sk-serial,\n",
       "div.sk-item {\n",
       "  /* draw centered vertical line to link estimators */\n",
       "  background-image: linear-gradient(var(--sklearn-color-text-on-default-background), var(--sklearn-color-text-on-default-background));\n",
       "  background-size: 2px 100%;\n",
       "  background-repeat: no-repeat;\n",
       "  background-position: center center;\n",
       "}\n",
       "\n",
       "/* Parallel-specific style estimator block */\n",
       "\n",
       "#sk-container-id-1 div.sk-parallel-item::after {\n",
       "  content: \"\";\n",
       "  width: 100%;\n",
       "  border-bottom: 2px solid var(--sklearn-color-text-on-default-background);\n",
       "  flex-grow: 1;\n",
       "}\n",
       "\n",
       "#sk-container-id-1 div.sk-parallel {\n",
       "  display: flex;\n",
       "  align-items: stretch;\n",
       "  justify-content: center;\n",
       "  background-color: var(--sklearn-color-background);\n",
       "  position: relative;\n",
       "}\n",
       "\n",
       "#sk-container-id-1 div.sk-parallel-item {\n",
       "  display: flex;\n",
       "  flex-direction: column;\n",
       "}\n",
       "\n",
       "#sk-container-id-1 div.sk-parallel-item:first-child::after {\n",
       "  align-self: flex-end;\n",
       "  width: 50%;\n",
       "}\n",
       "\n",
       "#sk-container-id-1 div.sk-parallel-item:last-child::after {\n",
       "  align-self: flex-start;\n",
       "  width: 50%;\n",
       "}\n",
       "\n",
       "#sk-container-id-1 div.sk-parallel-item:only-child::after {\n",
       "  width: 0;\n",
       "}\n",
       "\n",
       "/* Serial-specific style estimator block */\n",
       "\n",
       "#sk-container-id-1 div.sk-serial {\n",
       "  display: flex;\n",
       "  flex-direction: column;\n",
       "  align-items: center;\n",
       "  background-color: var(--sklearn-color-background);\n",
       "  padding-right: 1em;\n",
       "  padding-left: 1em;\n",
       "}\n",
       "\n",
       "\n",
       "/* Toggleable style: style used for estimator/Pipeline/ColumnTransformer box that is\n",
       "clickable and can be expanded/collapsed.\n",
       "- Pipeline and ColumnTransformer use this feature and define the default style\n",
       "- Estimators will overwrite some part of the style using the `sk-estimator` class\n",
       "*/\n",
       "\n",
       "/* Pipeline and ColumnTransformer style (default) */\n",
       "\n",
       "#sk-container-id-1 div.sk-toggleable {\n",
       "  /* Default theme specific background. It is overwritten whether we have a\n",
       "  specific estimator or a Pipeline/ColumnTransformer */\n",
       "  background-color: var(--sklearn-color-background);\n",
       "}\n",
       "\n",
       "/* Toggleable label */\n",
       "#sk-container-id-1 label.sk-toggleable__label {\n",
       "  cursor: pointer;\n",
       "  display: flex;\n",
       "  width: 100%;\n",
       "  margin-bottom: 0;\n",
       "  padding: 0.5em;\n",
       "  box-sizing: border-box;\n",
       "  text-align: center;\n",
       "  align-items: start;\n",
       "  justify-content: space-between;\n",
       "  gap: 0.5em;\n",
       "}\n",
       "\n",
       "#sk-container-id-1 label.sk-toggleable__label .caption {\n",
       "  font-size: 0.6rem;\n",
       "  font-weight: lighter;\n",
       "  color: var(--sklearn-color-text-muted);\n",
       "}\n",
       "\n",
       "#sk-container-id-1 label.sk-toggleable__label-arrow:before {\n",
       "  /* Arrow on the left of the label */\n",
       "  content: \"▸\";\n",
       "  float: left;\n",
       "  margin-right: 0.25em;\n",
       "  color: var(--sklearn-color-icon);\n",
       "}\n",
       "\n",
       "#sk-container-id-1 label.sk-toggleable__label-arrow:hover:before {\n",
       "  color: var(--sklearn-color-text);\n",
       "}\n",
       "\n",
       "/* Toggleable content - dropdown */\n",
       "\n",
       "#sk-container-id-1 div.sk-toggleable__content {\n",
       "  max-height: 0;\n",
       "  max-width: 0;\n",
       "  overflow: hidden;\n",
       "  text-align: left;\n",
       "  /* unfitted */\n",
       "  background-color: var(--sklearn-color-unfitted-level-0);\n",
       "}\n",
       "\n",
       "#sk-container-id-1 div.sk-toggleable__content.fitted {\n",
       "  /* fitted */\n",
       "  background-color: var(--sklearn-color-fitted-level-0);\n",
       "}\n",
       "\n",
       "#sk-container-id-1 div.sk-toggleable__content pre {\n",
       "  margin: 0.2em;\n",
       "  border-radius: 0.25em;\n",
       "  color: var(--sklearn-color-text);\n",
       "  /* unfitted */\n",
       "  background-color: var(--sklearn-color-unfitted-level-0);\n",
       "}\n",
       "\n",
       "#sk-container-id-1 div.sk-toggleable__content.fitted pre {\n",
       "  /* unfitted */\n",
       "  background-color: var(--sklearn-color-fitted-level-0);\n",
       "}\n",
       "\n",
       "#sk-container-id-1 input.sk-toggleable__control:checked~div.sk-toggleable__content {\n",
       "  /* Expand drop-down */\n",
       "  max-height: 200px;\n",
       "  max-width: 100%;\n",
       "  overflow: auto;\n",
       "}\n",
       "\n",
       "#sk-container-id-1 input.sk-toggleable__control:checked~label.sk-toggleable__label-arrow:before {\n",
       "  content: \"▾\";\n",
       "}\n",
       "\n",
       "/* Pipeline/ColumnTransformer-specific style */\n",
       "\n",
       "#sk-container-id-1 div.sk-label input.sk-toggleable__control:checked~label.sk-toggleable__label {\n",
       "  color: var(--sklearn-color-text);\n",
       "  background-color: var(--sklearn-color-unfitted-level-2);\n",
       "}\n",
       "\n",
       "#sk-container-id-1 div.sk-label.fitted input.sk-toggleable__control:checked~label.sk-toggleable__label {\n",
       "  background-color: var(--sklearn-color-fitted-level-2);\n",
       "}\n",
       "\n",
       "/* Estimator-specific style */\n",
       "\n",
       "/* Colorize estimator box */\n",
       "#sk-container-id-1 div.sk-estimator input.sk-toggleable__control:checked~label.sk-toggleable__label {\n",
       "  /* unfitted */\n",
       "  background-color: var(--sklearn-color-unfitted-level-2);\n",
       "}\n",
       "\n",
       "#sk-container-id-1 div.sk-estimator.fitted input.sk-toggleable__control:checked~label.sk-toggleable__label {\n",
       "  /* fitted */\n",
       "  background-color: var(--sklearn-color-fitted-level-2);\n",
       "}\n",
       "\n",
       "#sk-container-id-1 div.sk-label label.sk-toggleable__label,\n",
       "#sk-container-id-1 div.sk-label label {\n",
       "  /* The background is the default theme color */\n",
       "  color: var(--sklearn-color-text-on-default-background);\n",
       "}\n",
       "\n",
       "/* On hover, darken the color of the background */\n",
       "#sk-container-id-1 div.sk-label:hover label.sk-toggleable__label {\n",
       "  color: var(--sklearn-color-text);\n",
       "  background-color: var(--sklearn-color-unfitted-level-2);\n",
       "}\n",
       "\n",
       "/* Label box, darken color on hover, fitted */\n",
       "#sk-container-id-1 div.sk-label.fitted:hover label.sk-toggleable__label.fitted {\n",
       "  color: var(--sklearn-color-text);\n",
       "  background-color: var(--sklearn-color-fitted-level-2);\n",
       "}\n",
       "\n",
       "/* Estimator label */\n",
       "\n",
       "#sk-container-id-1 div.sk-label label {\n",
       "  font-family: monospace;\n",
       "  font-weight: bold;\n",
       "  display: inline-block;\n",
       "  line-height: 1.2em;\n",
       "}\n",
       "\n",
       "#sk-container-id-1 div.sk-label-container {\n",
       "  text-align: center;\n",
       "}\n",
       "\n",
       "/* Estimator-specific */\n",
       "#sk-container-id-1 div.sk-estimator {\n",
       "  font-family: monospace;\n",
       "  border: 1px dotted var(--sklearn-color-border-box);\n",
       "  border-radius: 0.25em;\n",
       "  box-sizing: border-box;\n",
       "  margin-bottom: 0.5em;\n",
       "  /* unfitted */\n",
       "  background-color: var(--sklearn-color-unfitted-level-0);\n",
       "}\n",
       "\n",
       "#sk-container-id-1 div.sk-estimator.fitted {\n",
       "  /* fitted */\n",
       "  background-color: var(--sklearn-color-fitted-level-0);\n",
       "}\n",
       "\n",
       "/* on hover */\n",
       "#sk-container-id-1 div.sk-estimator:hover {\n",
       "  /* unfitted */\n",
       "  background-color: var(--sklearn-color-unfitted-level-2);\n",
       "}\n",
       "\n",
       "#sk-container-id-1 div.sk-estimator.fitted:hover {\n",
       "  /* fitted */\n",
       "  background-color: var(--sklearn-color-fitted-level-2);\n",
       "}\n",
       "\n",
       "/* Specification for estimator info (e.g. \"i\" and \"?\") */\n",
       "\n",
       "/* Common style for \"i\" and \"?\" */\n",
       "\n",
       ".sk-estimator-doc-link,\n",
       "a:link.sk-estimator-doc-link,\n",
       "a:visited.sk-estimator-doc-link {\n",
       "  float: right;\n",
       "  font-size: smaller;\n",
       "  line-height: 1em;\n",
       "  font-family: monospace;\n",
       "  background-color: var(--sklearn-color-background);\n",
       "  border-radius: 1em;\n",
       "  height: 1em;\n",
       "  width: 1em;\n",
       "  text-decoration: none !important;\n",
       "  margin-left: 0.5em;\n",
       "  text-align: center;\n",
       "  /* unfitted */\n",
       "  border: var(--sklearn-color-unfitted-level-1) 1pt solid;\n",
       "  color: var(--sklearn-color-unfitted-level-1);\n",
       "}\n",
       "\n",
       ".sk-estimator-doc-link.fitted,\n",
       "a:link.sk-estimator-doc-link.fitted,\n",
       "a:visited.sk-estimator-doc-link.fitted {\n",
       "  /* fitted */\n",
       "  border: var(--sklearn-color-fitted-level-1) 1pt solid;\n",
       "  color: var(--sklearn-color-fitted-level-1);\n",
       "}\n",
       "\n",
       "/* On hover */\n",
       "div.sk-estimator:hover .sk-estimator-doc-link:hover,\n",
       ".sk-estimator-doc-link:hover,\n",
       "div.sk-label-container:hover .sk-estimator-doc-link:hover,\n",
       ".sk-estimator-doc-link:hover {\n",
       "  /* unfitted */\n",
       "  background-color: var(--sklearn-color-unfitted-level-3);\n",
       "  color: var(--sklearn-color-background);\n",
       "  text-decoration: none;\n",
       "}\n",
       "\n",
       "div.sk-estimator.fitted:hover .sk-estimator-doc-link.fitted:hover,\n",
       ".sk-estimator-doc-link.fitted:hover,\n",
       "div.sk-label-container:hover .sk-estimator-doc-link.fitted:hover,\n",
       ".sk-estimator-doc-link.fitted:hover {\n",
       "  /* fitted */\n",
       "  background-color: var(--sklearn-color-fitted-level-3);\n",
       "  color: var(--sklearn-color-background);\n",
       "  text-decoration: none;\n",
       "}\n",
       "\n",
       "/* Span, style for the box shown on hovering the info icon */\n",
       ".sk-estimator-doc-link span {\n",
       "  display: none;\n",
       "  z-index: 9999;\n",
       "  position: relative;\n",
       "  font-weight: normal;\n",
       "  right: .2ex;\n",
       "  padding: .5ex;\n",
       "  margin: .5ex;\n",
       "  width: min-content;\n",
       "  min-width: 20ex;\n",
       "  max-width: 50ex;\n",
       "  color: var(--sklearn-color-text);\n",
       "  box-shadow: 2pt 2pt 4pt #999;\n",
       "  /* unfitted */\n",
       "  background: var(--sklearn-color-unfitted-level-0);\n",
       "  border: .5pt solid var(--sklearn-color-unfitted-level-3);\n",
       "}\n",
       "\n",
       ".sk-estimator-doc-link.fitted span {\n",
       "  /* fitted */\n",
       "  background: var(--sklearn-color-fitted-level-0);\n",
       "  border: var(--sklearn-color-fitted-level-3);\n",
       "}\n",
       "\n",
       ".sk-estimator-doc-link:hover span {\n",
       "  display: block;\n",
       "}\n",
       "\n",
       "/* \"?\"-specific style due to the `<a>` HTML tag */\n",
       "\n",
       "#sk-container-id-1 a.estimator_doc_link {\n",
       "  float: right;\n",
       "  font-size: 1rem;\n",
       "  line-height: 1em;\n",
       "  font-family: monospace;\n",
       "  background-color: var(--sklearn-color-background);\n",
       "  border-radius: 1rem;\n",
       "  height: 1rem;\n",
       "  width: 1rem;\n",
       "  text-decoration: none;\n",
       "  /* unfitted */\n",
       "  color: var(--sklearn-color-unfitted-level-1);\n",
       "  border: var(--sklearn-color-unfitted-level-1) 1pt solid;\n",
       "}\n",
       "\n",
       "#sk-container-id-1 a.estimator_doc_link.fitted {\n",
       "  /* fitted */\n",
       "  border: var(--sklearn-color-fitted-level-1) 1pt solid;\n",
       "  color: var(--sklearn-color-fitted-level-1);\n",
       "}\n",
       "\n",
       "/* On hover */\n",
       "#sk-container-id-1 a.estimator_doc_link:hover {\n",
       "  /* unfitted */\n",
       "  background-color: var(--sklearn-color-unfitted-level-3);\n",
       "  color: var(--sklearn-color-background);\n",
       "  text-decoration: none;\n",
       "}\n",
       "\n",
       "#sk-container-id-1 a.estimator_doc_link.fitted:hover {\n",
       "  /* fitted */\n",
       "  background-color: var(--sklearn-color-fitted-level-3);\n",
       "}\n",
       "</style><div id=\"sk-container-id-1\" class=\"sk-top-container\"><div class=\"sk-text-repr-fallback\"><pre>RandomForestClassifier(n_jobs=-1)</pre><b>In a Jupyter environment, please rerun this cell to show the HTML representation or trust the notebook. <br />On GitHub, the HTML representation is unable to render, please try loading this page with nbviewer.org.</b></div><div class=\"sk-container\" hidden><div class=\"sk-item\"><div class=\"sk-estimator fitted sk-toggleable\"><input class=\"sk-toggleable__control sk-hidden--visually\" id=\"sk-estimator-id-1\" type=\"checkbox\" checked><label for=\"sk-estimator-id-1\" class=\"sk-toggleable__label fitted sk-toggleable__label-arrow\"><div><div>RandomForestClassifier</div></div><div><a class=\"sk-estimator-doc-link fitted\" rel=\"noreferrer\" target=\"_blank\" href=\"https://scikit-learn.org/1.6/modules/generated/sklearn.ensemble.RandomForestClassifier.html\">?<span>Documentation for RandomForestClassifier</span></a><span class=\"sk-estimator-doc-link fitted\">i<span>Fitted</span></span></div></label><div class=\"sk-toggleable__content fitted\"><pre>RandomForestClassifier(n_jobs=-1)</pre></div> </div></div></div></div>"
      ],
      "text/plain": [
       "RandomForestClassifier(n_jobs=-1)"
      ]
     },
     "execution_count": 20,
     "metadata": {},
     "output_type": "execute_result"
    }
   ],
   "source": [
    "clf = RandomForestClassifier(n_jobs=-1)\n",
    "clf.fit(X_train, y_train)"
   ]
  },
  {
   "cell_type": "code",
   "execution_count": 21,
   "metadata": {},
   "outputs": [
    {
     "data": {
      "text/plain": [
       "0.9809904565385608"
      ]
     },
     "execution_count": 21,
     "metadata": {},
     "output_type": "execute_result"
    }
   ],
   "source": [
    "clf.score(X_test, y_test)"
   ]
  },
  {
   "cell_type": "code",
   "execution_count": 23,
   "metadata": {},
   "outputs": [
    {
     "data": {
      "text/plain": [
       "'we have everything you need escapelong cialescapenumbers sescapenumberft tescapenumberbs vescapenumberagra sescapenumberft tescapenumberbs cialescapenumbers vescapenumberagra levescapenumbertra propecescapenumbera valescapenumberum xanescapenumberx ambescapenumberen zybescapenumbern atarescapenumberx atescapenumbervan carescapenumbersoma ultrescapenumberm escapelong lipescapenumbertor merescapenumberdia zocescapenumberr nescapenumberrvasc we respect your privacy we guarantee you a total anonymity of your escapenumberrder visit us escapelong inc online at http www calukee com '"
      ]
     },
     "execution_count": 23,
     "metadata": {},
     "output_type": "execute_result"
    }
   ],
   "source": [
    "email_to_classify = df.text.values[15]\n",
    "email_to_classify"
   ]
  },
  {
   "cell_type": "code",
   "execution_count": 26,
   "metadata": {},
   "outputs": [
    {
     "name": "stdout",
     "output_type": "stream",
     "text": [
      "everyth need escapelong cialescapenumb sescapenumberft tescapenumberb vescapenumberagra sescapenumberft tescapenumberb cialescapenumb vescapenumberagra levescapenumbertra propecescapenumbera valescapenumberum xanescapenumberx ambescapenumberen zybescapenumbern atarescapenumberx atescapenumbervan carescapenumbersoma ultrescapenumberm escapelong lipescapenumbertor merescapenumberdia zocescapenumberr nescapenumberrvasc respect privaci guarante total anonym escapenumberrd visit us escapelong inc onlin http www caluke com\n",
      "<Compressed Sparse Row sparse matrix of dtype 'int64'\n",
      "\twith 35 stored elements and shape (1, 443093)>\n",
      "  Coords\tValues\n",
      "  (0, 32557)\t1\n",
      "  (0, 35076)\t1\n",
      "  (0, 40906)\t1\n",
      "  (0, 41020)\t1\n",
      "  (0, 63371)\t1\n",
      "  (0, 64703)\t1\n",
      "  (0, 71322)\t2\n",
      "  (0, 75512)\t1\n",
      "  (0, 113140)\t3\n",
      "  (0, 117949)\t1\n",
      "  (0, 122080)\t1\n",
      "  (0, 147842)\t1\n",
      "  (0, 159493)\t1\n",
      "  (0, 165770)\t1\n",
      "  (0, 194828)\t1\n",
      "  (0, 197164)\t1\n",
      "  (0, 211041)\t1\n",
      "  (0, 224824)\t1\n",
      "  (0, 225489)\t1\n",
      "  (0, 238360)\t1\n",
      "  (0, 259010)\t1\n",
      "  (0, 260299)\t1\n",
      "  (0, 275248)\t1\n",
      "  (0, 290829)\t2\n",
      "  (0, 314810)\t2\n",
      "  (0, 321863)\t1\n",
      "  (0, 329615)\t1\n",
      "  (0, 333322)\t1\n",
      "  (0, 335641)\t1\n",
      "  (0, 338333)\t2\n",
      "  (0, 340260)\t1\n",
      "  (0, 354071)\t1\n",
      "  (0, 354917)\t1\n",
      "  (0, 365839)\t1\n",
      "  (0, 367215)\t1\n"
     ]
    }
   ],
   "source": [
    "email_text = email_to_classify.lower().translate(str.maketrans('','', string.punctuation)).split()\n",
    "email_text = [stemmer.stem(word) for word in email_text if word not in stopwords_set]\n",
    "email_text = ' '.join(email_text)\n",
    "email_corpus = [email_text]\n",
    "print(email_text)\n",
    "X_email = vectorizer.transform(email_corpus)\n",
    "print(X_email)\n"
   ]
  },
  {
   "cell_type": "code",
   "execution_count": 27,
   "metadata": {},
   "outputs": [
    {
     "data": {
      "text/plain": [
       "array([1])"
      ]
     },
     "execution_count": 27,
     "metadata": {},
     "output_type": "execute_result"
    }
   ],
   "source": [
    "clf.predict(X_email)"
   ]
  },
  {
   "cell_type": "code",
   "execution_count": 31,
   "metadata": {},
   "outputs": [
    {
     "data": {
      "text/plain": [
       "np.int64(1)"
      ]
     },
     "execution_count": 31,
     "metadata": {},
     "output_type": "execute_result"
    }
   ],
   "source": [
    "df['label'].iloc[15]"
   ]
  }
 ],
 "metadata": {
  "kernelspec": {
   "display_name": "spam",
   "language": "python",
   "name": "python3"
  },
  "language_info": {
   "codemirror_mode": {
    "name": "ipython",
    "version": 3
   },
   "file_extension": ".py",
   "mimetype": "text/x-python",
   "name": "python",
   "nbconvert_exporter": "python",
   "pygments_lexer": "ipython3",
   "version": "3.13.1"
  }
 },
 "nbformat": 4,
 "nbformat_minor": 2
}
